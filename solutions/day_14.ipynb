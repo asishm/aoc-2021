{
 "cells": [
  {
   "cell_type": "code",
   "execution_count": 1,
   "id": "6e14dd32-e87d-47e1-a5cf-14fc975fff3a",
   "metadata": {},
   "outputs": [],
   "source": [
    "import sys\n",
    "import string\n",
    "import itertools\n",
    "from collections import Counter, defaultdict\n",
    "import re\n",
    "\n",
    "from pathlib import Path\n",
    "import os\n",
    "\n",
    "import pandas as pd\n",
    "import numpy as np\n",
    "import matplotlib.pyplot as plt\n",
    "import math\n",
    "import networkx as nx\n",
    "from copy import deepcopy"
   ]
  },
  {
   "cell_type": "code",
   "execution_count": 2,
   "id": "6d4de650-28ef-4be7-81d7-d69ef7e4ea57",
   "metadata": {},
   "outputs": [],
   "source": [
    "%load_ext line_profiler"
   ]
  },
  {
   "cell_type": "code",
   "execution_count": 3,
   "id": "f1ec38c0-7844-4802-a997-94bb99124e5c",
   "metadata": {},
   "outputs": [],
   "source": [
    "data = Path('../data/day_14.txt').read_text()"
   ]
  },
  {
   "cell_type": "code",
   "execution_count": 4,
   "id": "e0093263-30e9-4c07-ac3c-e8d5d0907744",
   "metadata": {},
   "outputs": [],
   "source": [
    "start, ins = data.split('\\n\\n')"
   ]
  },
  {
   "cell_type": "code",
   "execution_count": 5,
   "id": "48ad3a68-304d-4aa9-812f-f20682c70479",
   "metadata": {},
   "outputs": [],
   "source": [
    "pats = {}\n",
    "for j in ins.splitlines():\n",
    "    pat, val = j.split(' -> ')\n",
    "    pats[pat] = val"
   ]
  },
  {
   "cell_type": "code",
   "execution_count": 50,
   "id": "0b65715b-2c93-42a7-943b-0db5e5b016fc",
   "metadata": {},
   "outputs": [],
   "source": [
    "def solve(start, pats, steps=10):\n",
    "    start_counter = Counter([f'{a}{b}' for a,b in zip(start, start[1:])])\n",
    "    \n",
    "    for i in range(steps):\n",
    "        new_counts = Counter()\n",
    "        for x, c in start_counter.items():\n",
    "            a,b = x\n",
    "            if x not in pats:\n",
    "                new_counts[x] += c\n",
    "            else:\n",
    "                to_add = pats[x]\n",
    "                new_counts[f'{a}{to_add}'] += c\n",
    "                new_counts[f'{to_add}{b}'] += c\n",
    "        start_counter = new_counts\n",
    "        \n",
    "    final_letter_count = Counter()\n",
    "    for (a,_), c in start_counter.items():\n",
    "        final_letter_count[a] += c\n",
    "    final_letter_count[start[-1]] += 1\n",
    "    mc = final_letter_count.most_common()\n",
    "    return mc[0][1] - mc[-1][1]"
   ]
  },
  {
   "cell_type": "code",
   "execution_count": 51,
   "id": "63edb147-2057-4844-99eb-604160480e41",
   "metadata": {},
   "outputs": [
    {
     "data": {
      "text/plain": [
       "2891"
      ]
     },
     "execution_count": 51,
     "metadata": {},
     "output_type": "execute_result"
    }
   ],
   "source": [
    "solve(start, pats)"
   ]
  },
  {
   "cell_type": "code",
   "execution_count": 52,
   "id": "304b80b9-2e4c-498d-b2a8-572cb337db06",
   "metadata": {},
   "outputs": [
    {
     "data": {
      "text/plain": [
       "4607749009683"
      ]
     },
     "execution_count": 52,
     "metadata": {},
     "output_type": "execute_result"
    }
   ],
   "source": [
    "solve(start, pats, 40)"
   ]
  },
  {
   "cell_type": "code",
   "execution_count": 4,
   "id": "2a96f741-7b2d-429b-81a1-697a74a5f45c",
   "metadata": {},
   "outputs": [
    {
     "name": "stdout",
     "output_type": "stream",
     "text": [
      "None\n"
     ]
    }
   ],
   "source": [
    "def part_a():\n",
    "    pass\n",
    "\n",
    "print(part_a())\n",
    "# timeit part_a()"
   ]
  },
  {
   "cell_type": "code",
   "execution_count": 5,
   "id": "e55e8fb1-516e-460d-90ed-be78d2134c8a",
   "metadata": {},
   "outputs": [
    {
     "name": "stdout",
     "output_type": "stream",
     "text": [
      "None\n"
     ]
    }
   ],
   "source": [
    "def part_b():\n",
    "    pass\n",
    "\n",
    "print(part_b())\n",
    "# timeit part_b()"
   ]
  },
  {
   "cell_type": "code",
   "execution_count": null,
   "id": "d777e679-749c-4a7b-bb38-e26e9df5970d",
   "metadata": {},
   "outputs": [],
   "source": []
  }
 ],
 "metadata": {
  "kernelspec": {
   "display_name": "Python 3",
   "language": "python",
   "name": "python3"
  },
  "language_info": {
   "codemirror_mode": {
    "name": "ipython",
    "version": 3
   },
   "file_extension": ".py",
   "mimetype": "text/x-python",
   "name": "python",
   "nbconvert_exporter": "python",
   "pygments_lexer": "ipython3",
   "version": "3.9.7"
  }
 },
 "nbformat": 4,
 "nbformat_minor": 5
}
