{
 "cells": [
  {
   "cell_type": "code",
   "execution_count": 1,
   "id": "e1c78857-91c2-47e4-8119-2e2a14348f53",
   "metadata": {},
   "outputs": [],
   "source": [
    "import sys\n",
    "import string\n",
    "import itertools\n",
    "from collections import Counter, defaultdict\n",
    "import re\n",
    "\n",
    "from pathlib import Path\n",
    "import os\n",
    "\n",
    "import pandas as pd\n",
    "import numpy as np\n",
    "import matplotlib.pyplot as plt"
   ]
  },
  {
   "cell_type": "code",
   "execution_count": 13,
   "id": "e041f289-b414-4fc4-9ec9-3ea4df1d1764",
   "metadata": {},
   "outputs": [],
   "source": [
    "import networkx as nx"
   ]
  },
  {
   "cell_type": "code",
   "execution_count": 2,
   "id": "6013f7ee-8155-4b6f-8f02-5c4fb4a055b0",
   "metadata": {},
   "outputs": [],
   "source": [
    "%load_ext line_profiler"
   ]
  },
  {
   "cell_type": "code",
   "execution_count": 3,
   "id": "b33fd6da-8dfa-4f6e-b7e7-ed3c5b23f9f7",
   "metadata": {},
   "outputs": [],
   "source": [
    "data = Path('../data/day_09.txt').read_text()"
   ]
  },
  {
   "cell_type": "code",
   "execution_count": 4,
   "id": "be149354-4553-42ba-86e5-da41b7082a8a",
   "metadata": {},
   "outputs": [],
   "source": [
    "inps = [[int(k) for k in line] for line in data.splitlines()]"
   ]
  },
  {
   "cell_type": "code",
   "execution_count": 32,
   "id": "c746868a-7006-4972-a2f8-573e9778b1e9",
   "metadata": {
    "scrolled": true,
    "tags": []
   },
   "outputs": [
    {
     "name": "stdout",
     "output_type": "stream",
     "text": [
      "491\n",
      "3.3 ms ± 159 µs per loop (mean ± std. dev. of 7 runs, 100 loops each)\n"
     ]
    }
   ],
   "source": [
    "def part_a():\n",
    "    rows = len(inps)\n",
    "    cols = len(inps[0])\n",
    "    count = 0\n",
    "    for i, row in enumerate(inps):\n",
    "        for j, val in enumerate(row):\n",
    "            if i != 0:\n",
    "                top = inps[i-1][j]\n",
    "            else:\n",
    "                top = float('inf')\n",
    "            if j != 0:\n",
    "                left = inps[i][j-1]\n",
    "            else:\n",
    "                left = float('inf')\n",
    "            if i != rows - 1:\n",
    "                bottom = inps[i+1][j]\n",
    "            else:\n",
    "                bottom = float('inf')\n",
    "            if j != cols - 1:\n",
    "                right = inps[i][j+1]\n",
    "            else:\n",
    "                right = float('inf')\n",
    "            if val < top and val < bottom and val < right and val < left:\n",
    "                # print(i, j, val)\n",
    "                count += (val + 1)\n",
    "    return count\n",
    "\n",
    "print(part_a())\n",
    "%timeit part_a()"
   ]
  },
  {
   "cell_type": "code",
   "execution_count": 33,
   "id": "eab83362-b8c0-44bb-a0e4-0456a308201c",
   "metadata": {
    "tags": []
   },
   "outputs": [
    {
     "name": "stdout",
     "output_type": "stream",
     "text": [
      "1075536\n",
      "31 ms ± 424 µs per loop (mean ± std. dev. of 7 runs, 10 loops each)\n"
     ]
    }
   ],
   "source": [
    "def part_b():\n",
    "    g = nx.Graph()\n",
    "    rows = len(inps)\n",
    "    cols = len(inps[0])\n",
    "    count = 0\n",
    "    for i, row in enumerate(inps):\n",
    "        for j, val in enumerate(row):\n",
    "            if val == 9:\n",
    "                continue\n",
    "            if i != 0 and inps[i-1][j] != 9:\n",
    "                g.add_edge((i,j), (i-1,j))\n",
    "            if j != 0 and inps[i][j-1] != 9:\n",
    "                g.add_edge((i,j), (i,j-1))\n",
    "            if i != rows - 1 and inps[i+1][j] != 9:\n",
    "                g.add_edge((i,j), (i+1,j))\n",
    "            if j != cols - 1 and inps[i][j+1] != 9:\n",
    "                g.add_edge((i,j), (i,j+1))\n",
    "    comps = sorted(nx.connected_components(g), key=len)\n",
    "    comps = comps[-3:]\n",
    "    return len(comps[0]) * len(comps[1]) * len(comps[2])\n",
    "\n",
    "print(part_b())\n",
    "%timeit part_b()"
   ]
  },
  {
   "cell_type": "code",
   "execution_count": null,
   "id": "cbc30809-7d9e-4ec4-969a-c81e8cc8b3cd",
   "metadata": {},
   "outputs": [],
   "source": []
  }
 ],
 "metadata": {
  "kernelspec": {
   "display_name": "Python 3",
   "language": "python",
   "name": "python3"
  },
  "language_info": {
   "codemirror_mode": {
    "name": "ipython",
    "version": 3
   },
   "file_extension": ".py",
   "mimetype": "text/x-python",
   "name": "python",
   "nbconvert_exporter": "python",
   "pygments_lexer": "ipython3",
   "version": "3.9.7"
  }
 },
 "nbformat": 4,
 "nbformat_minor": 5
}
