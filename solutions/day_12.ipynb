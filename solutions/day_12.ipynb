{
 "cells": [
  {
   "cell_type": "code",
   "execution_count": 1,
   "id": "c924b1f6-9ddf-454c-9dda-cd18a00e6dde",
   "metadata": {},
   "outputs": [],
   "source": [
    "import sys\n",
    "import string\n",
    "import itertools\n",
    "from collections import Counter, defaultdict\n",
    "import re\n",
    "\n",
    "from pathlib import Path\n",
    "import os\n",
    "\n",
    "import pandas as pd\n",
    "import numpy as np\n",
    "import matplotlib.pyplot as plt\n",
    "import math\n",
    "import networkx as nx\n",
    "from copy import deepcopy"
   ]
  },
  {
   "cell_type": "code",
   "execution_count": 2,
   "id": "00af39e4-3721-42bc-81dc-017035155526",
   "metadata": {},
   "outputs": [],
   "source": [
    "%load_ext line_profiler"
   ]
  },
  {
   "cell_type": "code",
   "execution_count": 3,
   "id": "49b209b6-e7ee-4f37-a1cd-545fb5faf6f4",
   "metadata": {},
   "outputs": [],
   "source": [
    "data = Path('../data/day_12.txt').read_text()"
   ]
  },
  {
   "cell_type": "code",
   "execution_count": 4,
   "id": "3e1bce18-0dd8-4579-a5cc-8a097762b41e",
   "metadata": {},
   "outputs": [],
   "source": [
    "inps = [k.split('-') for k in data.splitlines()]"
   ]
  },
  {
   "cell_type": "code",
   "execution_count": 5,
   "id": "0b8e5197-d4b1-4363-abee-7387098c7726",
   "metadata": {},
   "outputs": [],
   "source": [
    "graph = defaultdict(list)\n",
    "for start, end in inps:\n",
    "    graph[start].append(end)\n",
    "    graph[end].append(start)"
   ]
  },
  {
   "cell_type": "code",
   "execution_count": 6,
   "id": "9d37291f-459a-47f4-9537-5d8c91a74412",
   "metadata": {},
   "outputs": [
    {
     "name": "stdout",
     "output_type": "stream",
     "text": [
      "4720\n",
      "11.8 ms ± 209 µs per loop (mean ± std. dev. of 7 runs, 100 loops each)\n"
     ]
    }
   ],
   "source": [
    "def part_a(graph):\n",
    "    paths = []\n",
    "    def solve(graph, node, path=None, path_set=None):\n",
    "        if path is None:\n",
    "            path = []\n",
    "            path_set = set()\n",
    "        else:\n",
    "            path = path.copy()\n",
    "            path_set = path_set.copy()\n",
    "            \n",
    "        path.append(node)\n",
    "        if node.islower():\n",
    "            path_set.add(node)\n",
    "        if node == 'end':\n",
    "            paths.append(path)\n",
    "            return\n",
    "        for k in graph[node]:\n",
    "            if k.islower() and k in path_set:\n",
    "                continue\n",
    "            solve(graph, k, path, path_set)\n",
    "        # print(paths)\n",
    "    solve(graph, 'start')\n",
    "\n",
    "    return len(paths)\n",
    "\n",
    "print(part_a(graph))\n",
    "%timeit part_a(graph)"
   ]
  },
  {
   "cell_type": "code",
   "execution_count": 7,
   "id": "85061b0d-8b4d-4d38-91e7-2d9c27b4e276",
   "metadata": {},
   "outputs": [
    {
     "name": "stdout",
     "output_type": "stream",
     "text": [
      "147848\n",
      "1.08 s ± 12.4 ms per loop (mean ± std. dev. of 7 runs, 1 loop each)\n"
     ]
    }
   ],
   "source": [
    "def part_b(graph):\n",
    "    paths = []\n",
    "    def solve(graph, node, path=None, lower_counts=None):\n",
    "        if path is None:\n",
    "            path = []\n",
    "            lower_counts = {}\n",
    "        else:\n",
    "            path = path.copy()\n",
    "            lower_counts = lower_counts.copy()\n",
    "        path.append(node)\n",
    "        if node == 'end':\n",
    "            paths.append(path)\n",
    "            return\n",
    "        if node.islower():\n",
    "            lower_counts[node] = lower_counts.get(node, 0) + 1\n",
    "        for k in graph[node]:\n",
    "            if k == 'start':\n",
    "                continue\n",
    "            elif k.islower():\n",
    "                counts = {k for k,v in lower_counts.items() if v > 1}\n",
    "                if counts and k in path:\n",
    "                    continue\n",
    "            solve(graph, k, path, lower_counts)\n",
    "        # print(paths)\n",
    "    solve(graph, 'start')\n",
    "\n",
    "    return len(paths)\n",
    "\n",
    "print(part_b(graph))\n",
    "%timeit part_b(graph)"
   ]
  }
 ],
 "metadata": {
  "kernelspec": {
   "display_name": "Python 3",
   "language": "python",
   "name": "python3"
  },
  "language_info": {
   "codemirror_mode": {
    "name": "ipython",
    "version": 3
   },
   "file_extension": ".py",
   "mimetype": "text/x-python",
   "name": "python",
   "nbconvert_exporter": "python",
   "pygments_lexer": "ipython3",
   "version": "3.9.7"
  }
 },
 "nbformat": 4,
 "nbformat_minor": 5
}
