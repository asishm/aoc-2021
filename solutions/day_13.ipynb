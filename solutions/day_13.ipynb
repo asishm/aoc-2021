{
 "cells": [
  {
   "cell_type": "code",
   "execution_count": 1,
   "id": "6f3c0490-d3a7-4428-ae36-2310101c807e",
   "metadata": {},
   "outputs": [],
   "source": [
    "import sys\n",
    "import string\n",
    "import itertools\n",
    "from collections import Counter, defaultdict\n",
    "import re\n",
    "\n",
    "from pathlib import Path\n",
    "import os\n",
    "\n",
    "import pandas as pd\n",
    "import numpy as np\n",
    "import matplotlib.pyplot as plt\n",
    "import math\n",
    "import networkx as nx\n",
    "from copy import deepcopy"
   ]
  },
  {
   "cell_type": "code",
   "execution_count": 2,
   "id": "1b462e75-c662-41ce-9837-963304e461ac",
   "metadata": {},
   "outputs": [],
   "source": [
    "%load_ext line_profiler"
   ]
  },
  {
   "cell_type": "code",
   "execution_count": 3,
   "id": "286717e8-d69c-455e-b6ef-3f760999eb5b",
   "metadata": {},
   "outputs": [],
   "source": [
    "data = Path('../data/day_13.txt').read_text()"
   ]
  },
  {
   "cell_type": "code",
   "execution_count": 4,
   "id": "aa78436d-bbc5-42c4-b249-b60cc861f239",
   "metadata": {},
   "outputs": [],
   "source": [
    "d = []\n",
    "fold_found = False\n",
    "folds = []\n",
    "fold_x = 0\n",
    "fold_y = 0\n",
    "for line in data.splitlines():\n",
    "    if not line.strip():\n",
    "        fold_found = True\n",
    "        continue\n",
    "    if not fold_found:\n",
    "        x, y = [int(k) for k in line.split(',')]\n",
    "        d.append((x,y))\n",
    "    else:\n",
    "        direction, value = line.split()[-1].split('=')\n",
    "        value = int(value)\n",
    "        if direction == 'x' and not fold_x:\n",
    "            fold_x = value\n",
    "        elif direction == 'y' and not fold_y:\n",
    "            fold_y = value\n",
    "        folds.append((direction, value))"
   ]
  },
  {
   "cell_type": "code",
   "execution_count": 5,
   "id": "acfb4a77-3d4c-44e6-8d30-84cbc9095280",
   "metadata": {},
   "outputs": [
    {
     "name": "stdout",
     "output_type": "stream",
     "text": [
      "Part 1: 621\n",
      "█  █ █  █ █  █   ██  ██   ██    ██ ████ \n",
      "█  █ █ █  █  █    █ █  █ █  █    █    █ \n",
      "████ ██   █  █    █ █    █  █    █   █  \n",
      "█  █ █ █  █  █    █ █ ██ ████    █  █   \n",
      "█  █ █ █  █  █ █  █ █  █ █  █ █  █ █    \n",
      "█  █ █  █  ██   ██   ███ █  █  ██  ████ \n"
     ]
    }
   ],
   "source": [
    "grid = np.zeros((fold_y * 2 + 1, fold_x * 2 + 1), dtype=bool)\n",
    "\n",
    "for x, y in d:\n",
    "    grid[y][x] = True\n",
    "\n",
    "for i, (ins, val) in enumerate(folds):\n",
    "    if ins == 'x':\n",
    "        grid_left = grid[:,:val]\n",
    "        grid_right = grid[:,val+1:]\n",
    "        grid = (grid_left | np.flip(grid_right, axis=1))\n",
    "    else:\n",
    "        grid_top = grid[:val,:]\n",
    "        grid_bot = grid[val+1:,:]\n",
    "        grid = (grid_top | np.flip(grid_bot, axis=0))\n",
    "\n",
    "    if i == 0:\n",
    "        print(\"Part 1:\", grid.sum())\n",
    "\n",
    "print('\\n'.join(''.join(row) for row in np.where(grid, '█', ' ')))"
   ]
  },
  {
   "cell_type": "code",
   "execution_count": null,
   "id": "969abc8c-c0ae-4b03-b9d8-072d6aa31211",
   "metadata": {},
   "outputs": [],
   "source": []
  }
 ],
 "metadata": {
  "kernelspec": {
   "display_name": "Python 3",
   "language": "python",
   "name": "python3"
  },
  "language_info": {
   "codemirror_mode": {
    "name": "ipython",
    "version": 3
   },
   "file_extension": ".py",
   "mimetype": "text/x-python",
   "name": "python",
   "nbconvert_exporter": "python",
   "pygments_lexer": "ipython3",
   "version": "3.9.7"
  }
 },
 "nbformat": 4,
 "nbformat_minor": 5
}
