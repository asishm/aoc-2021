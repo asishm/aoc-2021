{
 "cells": [
  {
   "cell_type": "code",
   "execution_count": 1,
   "id": "6f3c0490-d3a7-4428-ae36-2310101c807e",
   "metadata": {},
   "outputs": [],
   "source": [
    "import sys\n",
    "import string\n",
    "import itertools\n",
    "from collections import Counter, defaultdict\n",
    "import re\n",
    "\n",
    "from pathlib import Path\n",
    "import os\n",
    "\n",
    "import pandas as pd\n",
    "import numpy as np\n",
    "import matplotlib.pyplot as plt\n",
    "import math\n",
    "import networkx as nx\n",
    "from copy import deepcopy"
   ]
  },
  {
   "cell_type": "code",
   "execution_count": 2,
   "id": "1b462e75-c662-41ce-9837-963304e461ac",
   "metadata": {},
   "outputs": [],
   "source": [
    "%load_ext line_profiler"
   ]
  },
  {
   "cell_type": "code",
   "execution_count": 5,
   "id": "286717e8-d69c-455e-b6ef-3f760999eb5b",
   "metadata": {},
   "outputs": [],
   "source": [
    "data = Path('../data/day_13.txt').read_text()"
   ]
  },
  {
   "cell_type": "code",
   "execution_count": 22,
   "id": "aa78436d-bbc5-42c4-b249-b60cc861f239",
   "metadata": {},
   "outputs": [],
   "source": [
    "d = []\n",
    "fold_found = False\n",
    "folds = []\n",
    "max_x = 0\n",
    "max_y = 0\n",
    "for line in data.splitlines():\n",
    "    if not line.strip():\n",
    "        fold_found = True\n",
    "        continue\n",
    "    if not fold_found:\n",
    "        x, y = [int(k) for k in line.split(',')]\n",
    "        d.append((x,y))\n",
    "        max_x = max(max_x, x)\n",
    "        max_y = max(max_y, y)\n",
    "    else:\n",
    "        direction, value = line.split()[-1].split('=')\n",
    "        value = int(value)\n",
    "        folds.append((direction, value))"
   ]
  },
  {
   "cell_type": "code",
   "execution_count": 3,
   "id": "30c69cf6-8b73-4a61-8341-85dad776493e",
   "metadata": {},
   "outputs": [
    {
     "name": "stdout",
     "output_type": "stream",
     "text": [
      "None\n",
      "45.6 ns ± 0.417 ns per loop (mean ± std. dev. of 7 runs, 10000000 loops each)\n"
     ]
    }
   ],
   "source": [
    "def part_a():\n",
    "    pass\n",
    "\n",
    "print(part_a())\n",
    "# %timeit part_a()"
   ]
  },
  {
   "cell_type": "code",
   "execution_count": 4,
   "id": "7517a741-2f57-42ad-bfd0-4b337687eacf",
   "metadata": {},
   "outputs": [
    {
     "name": "stdout",
     "output_type": "stream",
     "text": [
      "None\n"
     ]
    }
   ],
   "source": [
    "def part_b():\n",
    "    pass\n",
    "\n",
    "print(part_b())\n",
    "# %timeit part_b()"
   ]
  },
  {
   "cell_type": "code",
   "execution_count": 34,
   "id": "d9104c70-8241-4ceb-bb4a-55d5f4e0a824",
   "metadata": {},
   "outputs": [
    {
     "data": {
      "text/plain": [
       "(1310, 892, 732)"
      ]
     },
     "execution_count": 34,
     "metadata": {},
     "output_type": "execute_result"
    }
   ],
   "source": [
    "max_x, max_y, len(d)"
   ]
  },
  {
   "cell_type": "code",
   "execution_count": 47,
   "id": "ca7438f3-8f87-4534-bcef-f97f1302c217",
   "metadata": {},
   "outputs": [
    {
     "data": {
      "text/plain": [
       "(894, 1310)"
      ]
     },
     "execution_count": 47,
     "metadata": {},
     "output_type": "execute_result"
    }
   ],
   "source": [
    "447*2, 655*2"
   ]
  },
  {
   "cell_type": "code",
   "execution_count": 41,
   "id": "8bfa303d-e516-43e6-8da8-018d96325862",
   "metadata": {},
   "outputs": [],
   "source": []
  },
  {
   "cell_type": "code",
   "execution_count": 53,
   "id": "acfb4a77-3d4c-44e6-8d30-84cbc9095280",
   "metadata": {},
   "outputs": [
    {
     "name": "stdout",
     "output_type": "stream",
     "text": [
      "(895, 1311)\n",
      "621\n",
      "(895, 655)\n",
      "(447, 655)\n",
      "(447, 327)\n",
      "(223, 327)\n",
      "(223, 163)\n",
      "(111, 163)\n",
      "(111, 81)\n",
      "(55, 81)\n",
      "(55, 40)\n",
      "(27, 40)\n",
      "(13, 40)\n",
      "(6, 40)\n"
     ]
    }
   ],
   "source": [
    "grid = np.zeros((max_y+3, max_x+1), dtype=bool)\n",
    "\n",
    "for x, y in d:\n",
    "    grid[y][x] = True\n",
    "\n",
    "for i, (ins, val) in enumerate(folds):\n",
    "    print(grid.shape)\n",
    "    if ins == 'x':\n",
    "        grid_left = grid[:,:val]\n",
    "        grid_right = grid[:,val+1:]\n",
    "        grid = (grid_left | np.flip(grid_right, axis=1))\n",
    "    else:\n",
    "        grid_top = grid[:val,:]\n",
    "        grid_bot = grid[val+1:,:]\n",
    "        grid = (grid_top | np.flip(grid_bot, axis=0))\n",
    "\n",
    "    if i == 0:\n",
    "        print(grid.sum())\n",
    "print(grid.shape)\n"
   ]
  },
  {
   "cell_type": "code",
   "execution_count": 62,
   "id": "72b0e253-2113-4f43-8878-89bf0db42b40",
   "metadata": {},
   "outputs": [
    {
     "name": "stdout",
     "output_type": "stream",
     "text": [
      "|  | |  | |  |   ||  ||   ||    || |||| \n",
      "|  | | |  |  |    | |  | |  |    |    | \n",
      "|||| ||   |  |    | |    |  |    |   |  \n",
      "|  | | |  |  |    | | || ||||    |  |   \n",
      "|  | | |  |  | |  | |  | |  | |  | |    \n",
      "|  | |  |  ||   ||   ||| |  |  ||  |||| \n"
     ]
    }
   ],
   "source": [
    "for row in grid:\n",
    "    print(''.join(['|' if x else ' ' for x in row]))"
   ]
  },
  {
   "cell_type": "code",
   "execution_count": 28,
   "id": "61476b51-e188-482e-a224-752808b9f972",
   "metadata": {},
   "outputs": [],
   "source": [
    "grid_left = grid[:,:655]\n",
    "grid_right = grid[:,656:656+655]"
   ]
  },
  {
   "cell_type": "code",
   "execution_count": 36,
   "id": "9de7fce8-bf07-4b9a-af21-5313146fe794",
   "metadata": {},
   "outputs": [
    {
     "data": {
      "text/plain": [
       "0"
      ]
     },
     "execution_count": 36,
     "metadata": {},
     "output_type": "execute_result"
    }
   ],
   "source": []
  },
  {
   "cell_type": "code",
   "execution_count": 29,
   "id": "986796b0-3a3a-4b7b-ac12-540d8add5034",
   "metadata": {},
   "outputs": [
    {
     "data": {
      "text/plain": [
       "(1500, 655)"
      ]
     },
     "execution_count": 29,
     "metadata": {},
     "output_type": "execute_result"
    }
   ],
   "source": [
    "grid_left.shape"
   ]
  },
  {
   "cell_type": "code",
   "execution_count": 30,
   "id": "a7596d53-3063-4e41-b036-1e22df33e594",
   "metadata": {},
   "outputs": [
    {
     "data": {
      "text/plain": [
       "(1500, 655)"
      ]
     },
     "execution_count": 30,
     "metadata": {},
     "output_type": "execute_result"
    }
   ],
   "source": [
    "grid_right.shape"
   ]
  },
  {
   "cell_type": "code",
   "execution_count": 31,
   "id": "b455ba04-47b8-4839-952c-2ba987772333",
   "metadata": {},
   "outputs": [
    {
     "data": {
      "text/plain": [
       "array([[False, False, False, ..., False, False, False],\n",
       "       [False, False, False, ..., False, False, False],\n",
       "       [False, False, False, ..., False, False, False],\n",
       "       ...,\n",
       "       [False, False, False, ..., False, False, False],\n",
       "       [False, False, False, ..., False, False, False],\n",
       "       [False, False, False, ..., False, False, False]])"
      ]
     },
     "execution_count": 31,
     "metadata": {},
     "output_type": "execute_result"
    }
   ],
   "source": [
    "np.flip(grid_right, axis=1)"
   ]
  },
  {
   "cell_type": "code",
   "execution_count": 37,
   "id": "0e7b2648-95d0-4a35-8b83-8fbb3382fdb7",
   "metadata": {},
   "outputs": [
    {
     "data": {
      "text/plain": [
       "621"
      ]
     },
     "execution_count": 37,
     "metadata": {},
     "output_type": "execute_result"
    }
   ],
   "source": [
    "(grid_left | np.flip(grid_right, axis=1)).sum()"
   ]
  },
  {
   "cell_type": "code",
   "execution_count": 25,
   "id": "c7dca2cd-02f5-4eaa-9e3a-7e90995138a6",
   "metadata": {},
   "outputs": [
    {
     "data": {
      "text/plain": [
       "array([[1, 1],\n",
       "       [0, 1],\n",
       "       [0, 1],\n",
       "       [0, 0],\n",
       "       [0, 1]])"
      ]
     },
     "execution_count": 25,
     "metadata": {},
     "output_type": "execute_result"
    }
   ],
   "source": [
    "z= np.random.randint(0, 2, (5,2))\n",
    "z"
   ]
  },
  {
   "cell_type": "code",
   "execution_count": 27,
   "id": "2d0106ae-a6ae-4601-86f2-05adea5b3437",
   "metadata": {},
   "outputs": [
    {
     "data": {
      "text/plain": [
       "array([[1, 1],\n",
       "       [1, 0],\n",
       "       [1, 0],\n",
       "       [0, 0],\n",
       "       [1, 0]])"
      ]
     },
     "execution_count": 27,
     "metadata": {},
     "output_type": "execute_result"
    }
   ],
   "source": [
    "np.flip(z, axis=1)"
   ]
  },
  {
   "cell_type": "code",
   "execution_count": 45,
   "id": "9aa6bca4-de77-457c-b398-efb8b621e4b9",
   "metadata": {},
   "outputs": [
    {
     "data": {
      "text/plain": [
       "array([[0, 1],\n",
       "       [0, 0],\n",
       "       [0, 1],\n",
       "       [0, 1],\n",
       "       [1, 1]])"
      ]
     },
     "execution_count": 45,
     "metadata": {},
     "output_type": "execute_result"
    }
   ],
   "source": [
    "np.flip(z, axis=0)"
   ]
  }
 ],
 "metadata": {
  "kernelspec": {
   "display_name": "Python 3",
   "language": "python",
   "name": "python3"
  },
  "language_info": {
   "codemirror_mode": {
    "name": "ipython",
    "version": 3
   },
   "file_extension": ".py",
   "mimetype": "text/x-python",
   "name": "python",
   "nbconvert_exporter": "python",
   "pygments_lexer": "ipython3",
   "version": "3.9.7"
  }
 },
 "nbformat": 4,
 "nbformat_minor": 5
}
