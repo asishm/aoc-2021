{
 "cells": [
  {
   "cell_type": "code",
   "execution_count": 1,
   "id": "2384dbf9-618b-467e-8d69-ff9e729c0131",
   "metadata": {},
   "outputs": [],
   "source": [
    "import sys\n",
    "import string\n",
    "import itertools\n",
    "from collections import Counter, defaultdict\n",
    "import re\n",
    "\n",
    "from pathlib import Path\n",
    "import os\n",
    "\n",
    "import pandas as pd\n",
    "import numpy as np"
   ]
  },
  {
   "cell_type": "code",
   "execution_count": 2,
   "id": "cfec72cb-ffa0-4ee6-b7d5-1eb66abc2212",
   "metadata": {},
   "outputs": [],
   "source": [
    "data = Path('../data/day_03.txt').read_text()"
   ]
  },
  {
   "cell_type": "code",
   "execution_count": 3,
   "id": "8d5445fb-e131-40a0-8cb3-71647ec2351f",
   "metadata": {},
   "outputs": [],
   "source": [
    "data2 = list(zip(*data.split()))"
   ]
  },
  {
   "cell_type": "code",
   "execution_count": 4,
   "id": "8f15bbb1-17a5-4a1c-9bd7-b7d77d590500",
   "metadata": {},
   "outputs": [],
   "source": [
    "bit_counters = [Counter(k) for k in data2]"
   ]
  },
  {
   "cell_type": "code",
   "execution_count": 5,
   "id": "f5b21a2e-99bb-47c0-9883-b14840499453",
   "metadata": {},
   "outputs": [
    {
     "name": "stdout",
     "output_type": "stream",
     "text": [
      "2003336\n"
     ]
    }
   ],
   "source": [
    "hi, lo = '', ''\n",
    "for counter in bit_counters:\n",
    "    most_common = counter.most_common()\n",
    "    hi += most_common[0][0]\n",
    "    lo += most_common[-1][0]\n",
    "\n",
    "print(int(hi, 2) * int(lo, 2))"
   ]
  },
  {
   "cell_type": "code",
   "execution_count": 6,
   "id": "f8d18bae-acdc-4db8-a104-c557ba4e96e2",
   "metadata": {},
   "outputs": [],
   "source": [
    "def solve(inp, keep_hi=True):\n",
    "    '''\n",
    "    assume inp := list of iterable of columns\n",
    "    i.e. if raw input = \n",
    "    010\n",
    "    110\n",
    "    then inp = [('0', '1'), ('1', '1'), ('0', '0')]\n",
    "    '''\n",
    "    for i in range(len(inp)):\n",
    "        bit_column = inp[i]\n",
    "\n",
    "        if len(bit_column) <= 1:\n",
    "            break # as no more items to filter\n",
    "        column_counter = Counter(bit_column)\n",
    "\n",
    "        if keep_hi:\n",
    "            picked_bit = '1' if column_counter['1'] >= column_counter['0'] else '0'\n",
    "        else:\n",
    "            picked_bit = '0' if column_counter['1'] >= column_counter['0'] else '1'\n",
    "\n",
    "        filterd_re_ordered_inp = [k for k in zip(*inp) if k[i] == picked_bit]\n",
    "        inp = list(zip(*filterd_re_ordered_inp))\n",
    "\n",
    "    return int(''.join(list(zip(*inp))[0]), 2)"
   ]
  },
  {
   "cell_type": "code",
   "execution_count": 7,
   "id": "70445469-9aee-4b45-a790-d905f9d884e1",
   "metadata": {},
   "outputs": [
    {
     "data": {
      "text/plain": [
       "(2547, 737)"
      ]
     },
     "execution_count": 7,
     "metadata": {},
     "output_type": "execute_result"
    }
   ],
   "source": [
    "solve(data2), solve(data2, keep_hi=False)"
   ]
  },
  {
   "cell_type": "code",
   "execution_count": 17,
   "id": "55d7cc6a-816e-4d07-a062-e597147017ea",
   "metadata": {},
   "outputs": [
    {
     "name": "stdout",
     "output_type": "stream",
     "text": [
      "671 µs ± 10.9 µs per loop (mean ± std. dev. of 7 runs, 1000 loops each)\n"
     ]
    }
   ],
   "source": [
    "%timeit solve(data2) * solve(data2, keep_hi=False)"
   ]
  },
  {
   "cell_type": "code",
   "execution_count": 10,
   "id": "47178a77-62ac-4d65-9176-016617afe41b",
   "metadata": {},
   "outputs": [],
   "source": [
    "arr = np.array([[int(a) for a in k] for k in data.split()])"
   ]
  },
  {
   "cell_type": "code",
   "execution_count": 14,
   "id": "d14a09d5-792c-4803-b02b-845b788a0c22",
   "metadata": {},
   "outputs": [
    {
     "data": {
      "text/plain": [
       "(array([[0, 0, 0, ..., 1, 1, 1],\n",
       "        [0, 0, 0, ..., 1, 1, 1],\n",
       "        [0, 0, 0, ..., 1, 1, 1],\n",
       "        ...,\n",
       "        [0, 1, 0, ..., 0, 0, 1],\n",
       "        [0, 0, 1, ..., 1, 0, 1],\n",
       "        [0, 1, 0, ..., 1, 0, 1]]),\n",
       " array([1, 1, 1, 1, 1, 1, 1, 1, 1, 1, 1, 1]))"
      ]
     },
     "execution_count": 14,
     "metadata": {},
     "output_type": "execute_result"
    }
   ],
   "source": [
    "np.unique(arr, return_counts=True, axis=1)"
   ]
  },
  {
   "cell_type": "code",
   "execution_count": 16,
   "id": "a7bdd53e-15a3-4360-8695-e66d429997e0",
   "metadata": {},
   "outputs": [
    {
     "data": {
      "text/plain": [
       "(array([0, 1]), array([491, 509]))"
      ]
     },
     "execution_count": 16,
     "metadata": {},
     "output_type": "execute_result"
    }
   ],
   "source": [
    "np.unique(arr[:,0], return_counts=True)"
   ]
  },
  {
   "cell_type": "code",
   "execution_count": null,
   "id": "d5025687-31c0-4232-b746-9cce2632ae6a",
   "metadata": {},
   "outputs": [],
   "source": []
  }
 ],
 "metadata": {
  "kernelspec": {
   "display_name": "Python 3",
   "language": "python",
   "name": "python3"
  },
  "language_info": {
   "codemirror_mode": {
    "name": "ipython",
    "version": 3
   },
   "file_extension": ".py",
   "mimetype": "text/x-python",
   "name": "python",
   "nbconvert_exporter": "python",
   "pygments_lexer": "ipython3",
   "version": "3.9.7"
  }
 },
 "nbformat": 4,
 "nbformat_minor": 5
}
