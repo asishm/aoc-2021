{
 "cells": [
  {
   "cell_type": "code",
   "execution_count": 1,
   "id": "2384dbf9-618b-467e-8d69-ff9e729c0131",
   "metadata": {},
   "outputs": [],
   "source": [
    "import sys\n",
    "import string\n",
    "import itertools\n",
    "from collections import Counter, defaultdict\n",
    "import re\n",
    "\n",
    "from pathlib import Path\n",
    "import os\n",
    "\n",
    "import pandas as pd\n",
    "import numpy as np"
   ]
  },
  {
   "cell_type": "code",
   "execution_count": 3,
   "id": "cfec72cb-ffa0-4ee6-b7d5-1eb66abc2212",
   "metadata": {},
   "outputs": [],
   "source": [
    "data = Path('../data/day_03.txt').read_text()"
   ]
  },
  {
   "cell_type": "code",
   "execution_count": 6,
   "id": "8d5445fb-e131-40a0-8cb3-71647ec2351f",
   "metadata": {},
   "outputs": [],
   "source": [
    "data2 = list(zip(*data.split()))"
   ]
  },
  {
   "cell_type": "code",
   "execution_count": 8,
   "id": "8f15bbb1-17a5-4a1c-9bd7-b7d77d590500",
   "metadata": {},
   "outputs": [],
   "source": [
    "c = [Counter(k) for k in data2]"
   ]
  },
  {
   "cell_type": "code",
   "execution_count": 10,
   "id": "f5b21a2e-99bb-47c0-9883-b14840499453",
   "metadata": {},
   "outputs": [
    {
     "data": {
      "text/plain": [
       "3527"
      ]
     },
     "execution_count": 10,
     "metadata": {},
     "output_type": "execute_result"
    }
   ],
   "source": [
    "int(''.join([k.most_common()[0][0] for k in c]), 2)"
   ]
  },
  {
   "cell_type": "code",
   "execution_count": 11,
   "id": "28b8fe47-8f8a-4f64-aef5-b2c868867d3a",
   "metadata": {},
   "outputs": [
    {
     "data": {
      "text/plain": [
       "568"
      ]
     },
     "execution_count": 11,
     "metadata": {},
     "output_type": "execute_result"
    }
   ],
   "source": [
    "int(''.join([k.most_common()[-1][0] for k in c]), 2)"
   ]
  },
  {
   "cell_type": "code",
   "execution_count": 12,
   "id": "5832d77f-e18d-4b9b-83bd-335a775a5c27",
   "metadata": {},
   "outputs": [
    {
     "data": {
      "text/plain": [
       "2003336"
      ]
     },
     "execution_count": 12,
     "metadata": {},
     "output_type": "execute_result"
    }
   ],
   "source": [
    "3527 * 568"
   ]
  },
  {
   "cell_type": "code",
   "execution_count": null,
   "id": "00524d87-63c3-4931-83bd-878685a16bc3",
   "metadata": {},
   "outputs": [],
   "source": []
  },
  {
   "cell_type": "code",
   "execution_count": null,
   "id": "5c8c56fc-f1cb-4546-b585-b1705cdfa336",
   "metadata": {},
   "outputs": [],
   "source": []
  },
  {
   "cell_type": "code",
   "execution_count": 13,
   "id": "e21a5ed3-4bf6-4e9e-a431-5ee8db342e7d",
   "metadata": {},
   "outputs": [
    {
     "data": {
      "text/plain": [
       "12"
      ]
     },
     "execution_count": 13,
     "metadata": {},
     "output_type": "execute_result"
    }
   ],
   "source": [
    "len(data2)"
   ]
  },
  {
   "cell_type": "code",
   "execution_count": 18,
   "id": "23a57db2-cda5-42c3-8526-ae58ee11167d",
   "metadata": {},
   "outputs": [],
   "source": [
    "data3 = list(zip(*'''00100\n",
    "11110\n",
    "10110\n",
    "10111\n",
    "10101\n",
    "01111\n",
    "00111\n",
    "11100\n",
    "10000\n",
    "11001\n",
    "00010\n",
    "01010'''.split()))"
   ]
  },
  {
   "cell_type": "code",
   "execution_count": 34,
   "id": "271088c8-a15c-4c1c-b969-15afdba3c54d",
   "metadata": {},
   "outputs": [
    {
     "name": "stdout",
     "output_type": "stream",
     "text": [
      "100111110011 001011100 [('1',), ('0',), ('0',), ('1',), ('1',), ('1',), ('1',), ('1',), ('0',), ('0',), ('1',), ('1',)] [('0',), ('0',), ('1',), ('0',), ('1',), ('1',), ('1',), ('0',), ('0',), ('0',), ('0',), ('1',)]\n"
     ]
    }
   ],
   "source": [
    "keeps_hi = data2.copy()\n",
    "keeps_lo = data2.copy()\n",
    "\n",
    "hi = ''\n",
    "lo = ''\n",
    "\n",
    "for i in range(12):\n",
    "    # print(i)\n",
    "    # print(keeps_hi)\n",
    "    # print(keeps_lo)\n",
    "    # print(hi, lo)\n",
    "    if len(keeps_hi[i]) > 1:\n",
    "        c = Counter(keeps_hi[i])\n",
    "        if c['1'] >= c['0']:\n",
    "            tmp = [k for k in zip(*keeps_hi) if k[i] == '1']\n",
    "            hi += '1'\n",
    "        else:\n",
    "            tmp = [k for k in zip(*keeps_hi) if k[i] == '0']\n",
    "            hi += '0'\n",
    "        keeps_hi = list(zip(*tmp))\n",
    "    \n",
    "    if len(keeps_lo[i]) > 1:\n",
    "        \n",
    "        c2 = Counter(keeps_lo[i])\n",
    "        if c2['1'] >= c2['0']:\n",
    "            tmp = [k for k in zip(*keeps_lo) if k[i] == '0']\n",
    "            lo += '0'\n",
    "        else:\n",
    "            tmp = [k for k in zip(*keeps_lo) if k[i] == '1']\n",
    "            lo += '1'\n",
    "        keeps_lo = list(zip(*tmp))\n",
    "#     print(i)\n",
    "#     print(c)\n",
    "#     print(c2)\n",
    "    \n",
    "#     print('------')\n",
    "\n",
    "    # print(keeps_lo)\n",
    "print(hi, lo, keeps_hi, keeps_lo)"
   ]
  },
  {
   "cell_type": "code",
   "execution_count": 35,
   "id": "7bf76b49-c905-46d7-af1e-9cdb71f608c7",
   "metadata": {},
   "outputs": [
    {
     "data": {
      "text/plain": [
       "1877139"
      ]
     },
     "execution_count": 35,
     "metadata": {},
     "output_type": "execute_result"
    }
   ],
   "source": [
    "int(''.join([k[0] for k in keeps_hi]), 2) * int(''.join([k[0] for k in keeps_lo]), 2) "
   ]
  },
  {
   "cell_type": "code",
   "execution_count": null,
   "id": "f8d18bae-acdc-4db8-a104-c557ba4e96e2",
   "metadata": {},
   "outputs": [],
   "source": []
  }
 ],
 "metadata": {
  "kernelspec": {
   "display_name": "Python 3",
   "language": "python",
   "name": "python3"
  },
  "language_info": {
   "codemirror_mode": {
    "name": "ipython",
    "version": 3
   },
   "file_extension": ".py",
   "mimetype": "text/x-python",
   "name": "python",
   "nbconvert_exporter": "python",
   "pygments_lexer": "ipython3",
   "version": "3.9.7"
  }
 },
 "nbformat": 4,
 "nbformat_minor": 5
}
