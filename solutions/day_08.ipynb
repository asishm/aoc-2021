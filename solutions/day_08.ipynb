{
 "cells": [
  {
   "cell_type": "code",
   "execution_count": 1,
   "id": "94ba5636-fc88-4b77-8b18-e1ee81060ac4",
   "metadata": {},
   "outputs": [],
   "source": [
    "import sys\n",
    "import string\n",
    "import itertools\n",
    "from collections import Counter, defaultdict\n",
    "import re\n",
    "\n",
    "from pathlib import Path\n",
    "import os\n",
    "\n",
    "import pandas as pd\n",
    "import numpy as np\n",
    "import matplotlib.pyplot as plt"
   ]
  },
  {
   "cell_type": "code",
   "execution_count": 2,
   "id": "ee822348-f4cb-484f-be8a-125e52ab1aef",
   "metadata": {},
   "outputs": [],
   "source": [
    "%load_ext line_profiler"
   ]
  },
  {
   "cell_type": "code",
   "execution_count": 3,
   "id": "90a23356-e023-41d9-ac30-33ce80a236d5",
   "metadata": {},
   "outputs": [],
   "source": [
    "data = Path('../data/day_08.txt').read_text()"
   ]
  },
  {
   "cell_type": "code",
   "execution_count": 4,
   "id": "d49684ec-e108-4b2a-9002-6ec5b8e3bb4f",
   "metadata": {},
   "outputs": [],
   "source": [
    "inps = [k.split(' | ') for k in data.strip().splitlines()]"
   ]
  },
  {
   "cell_type": "code",
   "execution_count": 5,
   "id": "c6e97569-768f-4170-9fbe-c9fbbd8f13e0",
   "metadata": {},
   "outputs": [],
   "source": [
    "len_to_num = {\n",
    "    2: 1,\n",
    "    3: 7,\n",
    "    4: 4,\n",
    "    7: 8\n",
    "}"
   ]
  },
  {
   "cell_type": "code",
   "execution_count": 6,
   "id": "2415e83a-40ad-4c1e-a3ea-27d5d7f01b16",
   "metadata": {},
   "outputs": [
    {
     "name": "stdout",
     "output_type": "stream",
     "text": [
      "375\n",
      "104 µs ± 1.82 µs per loop (mean ± std. dev. of 7 runs, 10000 loops each)\n"
     ]
    }
   ],
   "source": [
    "def part_a():\n",
    "    exists = 0\n",
    "    for src, out in inps:\n",
    "        for c in out.split():\n",
    "            if len(c.strip()) in len_to_num:\n",
    "                exists += 1\n",
    "\n",
    "    return exists\n",
    "\n",
    "print(part_a())\n",
    "%timeit part_a()"
   ]
  },
  {
   "cell_type": "code",
   "execution_count": 7,
   "id": "3a6e05eb-4612-44e1-856c-5f8d125ecead",
   "metadata": {},
   "outputs": [
    {
     "data": {
      "text/plain": [
       "Timer unit: 1e-06 s\n",
       "\n",
       "Total time: 0.001595 s\n",
       "File: <ipython-input-6-506271491892>\n",
       "Function: part_a at line 1\n",
       "\n",
       "Line #      Hits         Time  Per Hit   % Time  Line Contents\n",
       "==============================================================\n",
       "     1                                           def part_a():\n",
       "     2         1          2.0      2.0      0.1      exists = 0\n",
       "     3       201         93.0      0.5      5.8      for src, out in inps:\n",
       "     4      1000        532.0      0.5     33.4          for c in out.split():\n",
       "     5       800        701.0      0.9     43.9              if len(c.strip()) in len_to_num:\n",
       "     6       375        267.0      0.7     16.7                  exists += 1\n",
       "     7                                           \n",
       "     8         1          0.0      0.0      0.0      return exists"
      ]
     },
     "metadata": {},
     "output_type": "display_data"
    }
   ],
   "source": [
    "%lprun -f part_a part_a()"
   ]
  },
  {
   "cell_type": "code",
   "execution_count": 8,
   "id": "71aa6287-7f74-464e-b24e-6d22c7617e8f",
   "metadata": {},
   "outputs": [],
   "source": [
    "def solve(signals, output):\n",
    "    # technically - identifying the letters for each side is not required\n",
    "    mapped = {}\n",
    "    length_to_possibles = defaultdict(list)\n",
    "\n",
    "    TOP_HORI = MID_HORI = BOT_HORI = TOP_LEFT = TOP_RIGHT = BOTTOM_LEFT = BOTTOM_RIGHT = None\n",
    "\n",
    "    for c in signals:\n",
    "        if len(c) in len_to_num: # identifies uniques by length i.e. for 1,4,7,8 (part 1)\n",
    "            mapped[len_to_num[len(c)]] = set(c)\n",
    "        else:\n",
    "            length_to_possibles[len(c)].append(set(c))\n",
    "\n",
    "    TOP_HORI = next(iter(mapped[7] - mapped[1])) # 1 and 7 difference = top horizontal\n",
    "    RIGHTS = mapped[7] & mapped[1] # 1 and 7 commons = the right verticals\n",
    "    HORIS = set.intersection(*length_to_possibles[5]) # 2,3,5 commons = the horizontals\n",
    "\n",
    "    for v in length_to_possibles[6]: # iterate over 6 lengths i.e. 0,6,9 possible\n",
    "        if not RIGHTS.issubset(v): # only 6 contains both right verticals\n",
    "            mapped[6] = v\n",
    "        elif not HORIS.issubset(v): # only 0 does not contain all the horizontals\n",
    "            mapped[0] = v\n",
    "            MID_HORI = next(iter(HORIS - v)) # as a consequence, mid horizontal can be identified\n",
    "        else: # otherwise it is 9\n",
    "            mapped[9] = v\n",
    "\n",
    "    TOP_LEFT = next(iter(mapped[4] - RIGHTS.union({MID_HORI}))) # top left = [4] - the rest \n",
    "\n",
    "    for v in length_to_possibles[5]: # iterate over 5 lengths i.e. 2,3,5 possible\n",
    "        if RIGHTS.issubset(v): # only 3 contains both right verticals\n",
    "            mapped[3] = v\n",
    "        elif TOP_LEFT in v: # only 5 contains top left vertical\n",
    "            mapped[5] = v\n",
    "            BOTTOM_RIGHT = next(iter(RIGHTS & v))\n",
    "            TOP_RIGHT = next(iter(RIGHTS - {BOTTOM_RIGHT}))\n",
    "        else: # otherwise 2\n",
    "            mapped[2] = v\n",
    "            BOTTOM_LEFT = next(iter(v - HORIS.union({TOP_RIGHT})))\n",
    "\n",
    "    BOT_HORI = next(iter(HORIS - {TOP_HORI, MID_HORI}))\n",
    "\n",
    "\n",
    "    out_to_num = {''.join(sorted(v)): k for k,v in mapped.items()}\n",
    "    final = 0\n",
    "\n",
    "    for num in output:\n",
    "        final = final * 10 + out_to_num[''.join(sorted(num))]\n",
    "        \n",
    "    return final"
   ]
  },
  {
   "cell_type": "code",
   "execution_count": 9,
   "id": "968bc1c1-352a-452f-b2fa-bb28fb0246c3",
   "metadata": {},
   "outputs": [
    {
     "data": {
      "text/plain": [
       "5353"
      ]
     },
     "execution_count": 9,
     "metadata": {},
     "output_type": "execute_result"
    }
   ],
   "source": [
    "solve('acedgfb cdfbe gcdfa fbcad dab cefabd cdfgeb eafb cagedb ab'.split(), 'cdfeb fcadb cdfeb cdbaf'.split())"
   ]
  },
  {
   "cell_type": "code",
   "execution_count": 10,
   "id": "0bacf7bb-2df2-4e89-8456-0de02037b1f9",
   "metadata": {
    "scrolled": true,
    "tags": []
   },
   "outputs": [
    {
     "name": "stdout",
     "output_type": "stream",
     "text": [
      "1019355\n",
      "3.24 ms ± 87.5 µs per loop (mean ± std. dev. of 7 runs, 100 loops each)\n"
     ]
    }
   ],
   "source": [
    "def part_b(inps):\n",
    "    s = 0\n",
    "    for src, out in inps:\n",
    "        s += solve(src.split(), out.split())\n",
    "        \n",
    "    return s\n",
    "print(part_b(inps))\n",
    "%timeit part_b(inps)"
   ]
  },
  {
   "cell_type": "code",
   "execution_count": 11,
   "id": "8a03bcc6-8813-4506-942b-9a7f0386b992",
   "metadata": {},
   "outputs": [
    {
     "data": {
      "text/plain": [
       "Timer unit: 1e-06 s\n",
       "\n",
       "Total time: 0.030062 s\n",
       "File: <ipython-input-10-a84760f6e48e>\n",
       "Function: part_b at line 1\n",
       "\n",
       "Line #      Hits         Time  Per Hit   % Time  Line Contents\n",
       "==============================================================\n",
       "     1                                           def part_b(inps):\n",
       "     2         1          1.0      1.0      0.0      s = 0\n",
       "     3       201        141.0      0.7      0.5      for src, out in inps:\n",
       "     4       200      29920.0    149.6     99.5          s += solve(src.split(), out.split())\n",
       "     5                                                   \n",
       "     6         1          0.0      0.0      0.0      return s\n",
       "\n",
       "Total time: 0.017893 s\n",
       "File: <ipython-input-8-d6a9915a0326>\n",
       "Function: solve at line 1\n",
       "\n",
       "Line #      Hits         Time  Per Hit   % Time  Line Contents\n",
       "==============================================================\n",
       "     1                                           def solve(signals, output):\n",
       "     2       200        153.0      0.8      0.9      mapped = {}\n",
       "     3       200        271.0      1.4      1.5      length_to_possibles = defaultdict(list)\n",
       "     4                                           \n",
       "     5       200        136.0      0.7      0.8      TOP_HORI = MID_HORI = BOT_HORI = TOP_LEFT = TOP_RIGHT = BOTTOM_LEFT = BOTTOM_RIGHT = None\n",
       "     6                                           \n",
       "     7      2200       1784.0      0.8     10.0      for c in signals:\n",
       "     8      2000       1481.0      0.7      8.3          if len(c) in len_to_num: # identifies uniques by length i.e. for 1,4,7,8 (part 1)\n",
       "     9       800        764.0      1.0      4.3              mapped[len_to_num[len(c)]] = set(c)\n",
       "    10                                                   else:\n",
       "    11      1200       2559.0      2.1     14.3              length_to_possibles[len(c)].append(set(c))\n",
       "    12                                           \n",
       "    13       200        268.0      1.3      1.5      TOP_HORI = next(iter(mapped[7] - mapped[1])) # 1 and 7 difference = top horizontal\n",
       "    14       200        217.0      1.1      1.2      RIGHTS = mapped[7] & mapped[1] # 1 and 7 commons = the right verticals\n",
       "    15       200        287.0      1.4      1.6      HORIS = set.intersection(*length_to_possibles[5]) # 2,3,5 commons = the horizontals\n",
       "    16                                           \n",
       "    17       200        110.0      0.6      0.6      to_remove = []\n",
       "    18       800        554.0      0.7      3.1      for v in length_to_possibles[6]: # iterate over 6 lengths i.e. 0,6,9 possible\n",
       "    19       600        445.0      0.7      2.5          if not RIGHTS.issubset(v): # only 6 contains both right verticals\n",
       "    20       200        185.0      0.9      1.0              mapped[6] = v\n",
       "    21       200        167.0      0.8      0.9              to_remove.append(v)\n",
       "    22       400        312.0      0.8      1.7          elif not HORIS.issubset(v): # only 0 does not contain all the horizontals\n",
       "    23       200        147.0      0.7      0.8              mapped[0] = v\n",
       "    24       200        245.0      1.2      1.4              MID_HORI = next(iter(HORIS - v))\n",
       "    25       200        148.0      0.7      0.8              to_remove.append(v)\n",
       "    26                                                   else: # otherwise it is 9\n",
       "    27       200        181.0      0.9      1.0              mapped[9] = v\n",
       "    28                                           \n",
       "    29       200        333.0      1.7      1.9      TOP_LEFT = next(iter(mapped[4] - RIGHTS.union({MID_HORI})))\n",
       "    30                                           \n",
       "    31       800        578.0      0.7      3.2      for v in length_to_possibles[5]: # iterate over 5 lengths i.e. 2,3,5 possible\n",
       "    32       600        471.0      0.8      2.6          if RIGHTS.issubset(v): # only 3 contains both right verticals\n",
       "    33       200        143.0      0.7      0.8              mapped[3] = v\n",
       "    34       400        288.0      0.7      1.6          elif TOP_LEFT in v: # only 5 contains top left vertical\n",
       "    35       200        536.0      2.7      3.0              mapped[5] = v\n",
       "    36       200        179.0      0.9      1.0              BOTTOM_RIGHT = next(iter(RIGHTS & v))\n",
       "    37       200        202.0      1.0      1.1              TOP_RIGHT = next(iter(RIGHTS - {BOTTOM_RIGHT}))\n",
       "    38                                                   else: # otherwise 2\n",
       "    39       200        160.0      0.8      0.9              mapped[2] = v\n",
       "    40       200        298.0      1.5      1.7              BOTTOM_LEFT = next(iter(v - HORIS.union({TOP_RIGHT})))\n",
       "    41                                           \n",
       "    42       200        200.0      1.0      1.1      BOT_HORI = next(iter(HORIS - {TOP_HORI, MID_HORI}))\n",
       "    43                                           \n",
       "    44                                           \n",
       "    45       200       1979.0      9.9     11.1      out_to_num = {''.join(sorted(v)): k for k,v in mapped.items()}\n",
       "    46       200        149.0      0.7      0.8      final = 0\n",
       "    47                                           \n",
       "    48      1000        626.0      0.6      3.5      for num in output:\n",
       "    49       800       1209.0      1.5      6.8          final = final * 10 + out_to_num[''.join(sorted(num))]\n",
       "    50                                                   \n",
       "    51       200        128.0      0.6      0.7      return final"
      ]
     },
     "metadata": {},
     "output_type": "display_data"
    }
   ],
   "source": [
    "%lprun -f part_b -f solve part_b(inps)"
   ]
  },
  {
   "cell_type": "code",
   "execution_count": null,
   "id": "b958266c-1435-4758-ab10-b6eff197acfe",
   "metadata": {},
   "outputs": [],
   "source": []
  }
 ],
 "metadata": {
  "kernelspec": {
   "display_name": "Python 3",
   "language": "python",
   "name": "python3"
  },
  "language_info": {
   "codemirror_mode": {
    "name": "ipython",
    "version": 3
   },
   "file_extension": ".py",
   "mimetype": "text/x-python",
   "name": "python",
   "nbconvert_exporter": "python",
   "pygments_lexer": "ipython3",
   "version": "3.9.7"
  }
 },
 "nbformat": 4,
 "nbformat_minor": 5
}
