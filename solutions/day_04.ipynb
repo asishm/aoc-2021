{
 "cells": [
  {
   "cell_type": "code",
   "execution_count": 1,
   "id": "8ee281c6-94e4-45c8-b7bc-9d3a47530d56",
   "metadata": {},
   "outputs": [],
   "source": [
    "import sys\n",
    "import string\n",
    "import itertools\n",
    "from collections import Counter, defaultdict\n",
    "import re\n",
    "\n",
    "from pathlib import Path\n",
    "import os\n",
    "\n",
    "import pandas as pd\n",
    "import numpy as np"
   ]
  },
  {
   "cell_type": "code",
   "execution_count": 2,
   "id": "82321a20-38c2-4510-a6f0-a70581cf60b5",
   "metadata": {},
   "outputs": [],
   "source": [
    "data = Path('../data/day_04.txt').read_text()"
   ]
  },
  {
   "cell_type": "code",
   "execution_count": 3,
   "id": "7e506213-96e9-471b-94c5-725d7546698e",
   "metadata": {},
   "outputs": [],
   "source": [
    "data = data.split('\\n\\n')"
   ]
  },
  {
   "cell_type": "code",
   "execution_count": 4,
   "id": "1a63410d-3777-46b3-92fb-6359527c8ca5",
   "metadata": {},
   "outputs": [],
   "source": [
    "numbers, *boards = data"
   ]
  },
  {
   "cell_type": "code",
   "execution_count": 5,
   "id": "510e6b86-c621-4a39-bca3-0cb209cad7cf",
   "metadata": {},
   "outputs": [],
   "source": [
    "numbers = [int(k) for k in numbers.split(',')]"
   ]
  },
  {
   "cell_type": "code",
   "execution_count": 6,
   "id": "2ce0b9d6-e1e8-4ecb-a165-28d1b0b160ac",
   "metadata": {},
   "outputs": [],
   "source": [
    "boards = [[[int(k) for k in row.split()] for row in board.splitlines()] for board in boards]"
   ]
  },
  {
   "cell_type": "code",
   "execution_count": 7,
   "id": "9a4a1774-4117-4f6a-9250-6db9906833c7",
   "metadata": {},
   "outputs": [],
   "source": [
    "class Board:\n",
    "    def __init__(self, board):\n",
    "        self.pos_mapper = {v: (x, y) for (x, row) in enumerate(board) for (y, v) in enumerate(row)}\n",
    "        self.column_bingos = Counter()\n",
    "        self.row_bingos = Counter()\n",
    "        self.board_size = len(board)\n",
    "        self.column_max = 0\n",
    "        self.row_max = 0\n",
    "    \n",
    "    def play_number(self, number):\n",
    "\n",
    "        x, y = self.pos_mapper[number]\n",
    "        self.column_bingos[y] += 1\n",
    "        self.row_bingos[x] += 1\n",
    "        self.column_max = max(self.column_max, self.column_bingos[y])\n",
    "        self.row_max = max(self.row_max, self.row_bingos[x])\n",
    "        \n",
    "    @property\n",
    "    def bingo(self):\n",
    "        return self.column_max == self.board_size or self.row_max == self.board_size"
   ]
  },
  {
   "cell_type": "code",
   "execution_count": 8,
   "id": "c15b7093-3198-4044-bb6f-e6a43cce1688",
   "metadata": {
    "scrolled": true,
    "tags": []
   },
   "outputs": [
    {
     "name": "stdout",
     "output_type": "stream",
     "text": [
      "1.36 ms ± 53.3 µs per loop (mean ± std. dev. of 7 runs, 1000 loops each)\n"
     ]
    }
   ],
   "source": [
    "%%timeit\n",
    "\n",
    "boards_obj_list = [Board(board) for board in boards]\n",
    "bingo_board = None\n",
    "\n",
    "called = set()\n",
    "\n",
    "for number in numbers:\n",
    "    called.add(set)\n",
    "    for board in boards_obj_list:\n",
    "        if number not in board.pos_mapper:\n",
    "            continue\n",
    "        board.play_number(number)\n",
    "        if board.bingo:\n",
    "            bingo_board = board\n",
    "            break\n",
    "    if bingo_board:\n",
    "        break\n",
    "\n",
    "# print(number, bingo_board)\n",
    "sum(bingo_board.pos_mapper.keys() - called) * number"
   ]
  },
  {
   "cell_type": "code",
   "execution_count": 9,
   "id": "2f6e7c5c-1a45-4166-b071-3fc29201b96b",
   "metadata": {},
   "outputs": [
    {
     "name": "stdout",
     "output_type": "stream",
     "text": [
      "496 µs ± 19 µs per loop (mean ± std. dev. of 7 runs, 1000 loops each)\n"
     ]
    }
   ],
   "source": [
    "%timeit boards_obj_list = [Board(board) for board in boards] # re-initialization required"
   ]
  },
  {
   "cell_type": "code",
   "execution_count": 10,
   "id": "0c3e5703-85c3-44fb-8f4e-eb9bca05ab9d",
   "metadata": {
    "scrolled": true,
    "tags": []
   },
   "outputs": [
    {
     "name": "stdout",
     "output_type": "stream",
     "text": [
      "3.2 ms ± 107 µs per loop (mean ± std. dev. of 7 runs, 100 loops each)\n"
     ]
    }
   ],
   "source": [
    "%%timeit\n",
    "\n",
    "boards_obj_list = [Board(board) for board in boards] # re-initialization required\n",
    "board_mapping = dict(enumerate(boards_obj_list))\n",
    "non_bingoed_boards = set(board_mapping)\n",
    "last_bingo_board = None\n",
    "called_numbers = set()\n",
    "\n",
    "for number in numbers:\n",
    "    # print(\"START\", number, len(non_bingoed_boards))\n",
    "    bingoed_boards = set()\n",
    "    called_numbers.add(set)\n",
    "    for board_id in non_bingoed_boards:\n",
    "        board = board_mapping[board_id]\n",
    "        if number not in board.pos_mapper:\n",
    "            continue\n",
    "        board.play_number(number)\n",
    "        if board.bingo:\n",
    "            # print(board_id)\n",
    "            bingoed_boards.add(board_id)\n",
    "            last_bingo_board = board\n",
    "    non_bingoed_boards = non_bingoed_boards - bingoed_boards\n",
    "    # print(\"END\", number, len(non_bingoed_boards))\n",
    "    if not non_bingoed_boards:\n",
    "        # print(number, 'break')\n",
    "        break\n",
    "    # print()\n",
    "# print(number, last_bingo_board)\n",
    "sum(last_bingo_board.pos_mapper.keys() - called_numbers) * number"
   ]
  },
  {
   "cell_type": "code",
   "execution_count": null,
   "id": "f93b425e-592a-4732-ac52-81a3f5419bc6",
   "metadata": {},
   "outputs": [],
   "source": []
  }
 ],
 "metadata": {
  "kernelspec": {
   "display_name": "Python 3",
   "language": "python",
   "name": "python3"
  },
  "language_info": {
   "codemirror_mode": {
    "name": "ipython",
    "version": 3
   },
   "file_extension": ".py",
   "mimetype": "text/x-python",
   "name": "python",
   "nbconvert_exporter": "python",
   "pygments_lexer": "ipython3",
   "version": "3.9.7"
  }
 },
 "nbformat": 4,
 "nbformat_minor": 5
}
