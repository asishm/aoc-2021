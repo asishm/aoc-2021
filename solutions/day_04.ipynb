{
 "cells": [
  {
   "cell_type": "code",
   "execution_count": 1,
   "id": "8ee281c6-94e4-45c8-b7bc-9d3a47530d56",
   "metadata": {},
   "outputs": [],
   "source": [
    "import sys\n",
    "import string\n",
    "import itertools\n",
    "from collections import Counter, defaultdict\n",
    "import re\n",
    "\n",
    "from pathlib import Path\n",
    "import os\n",
    "\n",
    "import pandas as pd\n",
    "import numpy as np"
   ]
  },
  {
   "cell_type": "code",
   "execution_count": 2,
   "id": "04a15b53-068c-4b74-8ac4-de585978ce27",
   "metadata": {},
   "outputs": [],
   "source": [
    "%load_ext line_profiler"
   ]
  },
  {
   "cell_type": "code",
   "execution_count": 3,
   "id": "82321a20-38c2-4510-a6f0-a70581cf60b5",
   "metadata": {},
   "outputs": [],
   "source": [
    "data = Path('../data/day_04.txt').read_text()"
   ]
  },
  {
   "cell_type": "code",
   "execution_count": 4,
   "id": "7e506213-96e9-471b-94c5-725d7546698e",
   "metadata": {},
   "outputs": [],
   "source": [
    "data = data.split('\\n\\n')"
   ]
  },
  {
   "cell_type": "code",
   "execution_count": 5,
   "id": "1a63410d-3777-46b3-92fb-6359527c8ca5",
   "metadata": {},
   "outputs": [],
   "source": [
    "numbers, *boards = data"
   ]
  },
  {
   "cell_type": "code",
   "execution_count": 6,
   "id": "510e6b86-c621-4a39-bca3-0cb209cad7cf",
   "metadata": {},
   "outputs": [],
   "source": [
    "numbers = [int(k) for k in numbers.split(',')]"
   ]
  },
  {
   "cell_type": "code",
   "execution_count": 7,
   "id": "2ce0b9d6-e1e8-4ecb-a165-28d1b0b160ac",
   "metadata": {},
   "outputs": [],
   "source": [
    "boards = [[[int(k) for k in row.split()] for row in board.splitlines()] for board in boards]"
   ]
  },
  {
   "cell_type": "code",
   "execution_count": 8,
   "id": "9a4a1774-4117-4f6a-9250-6db9906833c7",
   "metadata": {},
   "outputs": [],
   "source": [
    "class Board:\n",
    "    def __init__(self, board):\n",
    "        self.pos_mapper = {v: (x, y) for (x, row) in enumerate(board) for (y, v) in enumerate(row)}\n",
    "        self.column_bingos = dict()\n",
    "        self.row_bingos = dict()\n",
    "        self.board_size = len(board)\n",
    "        self.column_max = 0\n",
    "        self.row_max = 0\n",
    "    \n",
    "    def play_number(self, number):\n",
    "\n",
    "        x, y = self.pos_mapper[number]\n",
    "        x_update = self.row_bingos.get(x, 0) + 1\n",
    "        y_update = self.column_bingos.get(y, 0) + 1\n",
    "        self.column_bingos[y] = y_update\n",
    "        self.row_bingos[x] = x_update\n",
    "        if y_update > self.column_max:\n",
    "            self.column_max = y_update\n",
    "        if x_update > self.row_max:\n",
    "            self.row_max = x_update\n",
    "        # self.column_max = max(self.column_max, y_update)\n",
    "        # self.row_max = max(self.row_max, x_update)\n",
    "        \n",
    "    @property\n",
    "    def bingo(self):\n",
    "        return not (self.column_max < self.board_size and self.row_max < self.board_size)\n",
    "    \n",
    "    def reset(self):\n",
    "        self.column_bingos = dict()\n",
    "        self.row_bingos = dict()\n",
    "        self.column_max = 0\n",
    "        self.row_max = 0"
   ]
  },
  {
   "cell_type": "code",
   "execution_count": 9,
   "id": "c15b7093-3198-4044-bb6f-e6a43cce1688",
   "metadata": {
    "scrolled": true,
    "tags": []
   },
   "outputs": [
    {
     "name": "stdout",
     "output_type": "stream",
     "text": [
      "23177\n",
      "723 µs ± 13.4 µs per loop (mean ± std. dev. of 7 runs, 1000 loops each)\n"
     ]
    }
   ],
   "source": [
    "def part_a():\n",
    "    boards_obj_list = [Board(board) for board in boards]\n",
    "\n",
    "    called = set()\n",
    "\n",
    "    for number in numbers:\n",
    "        # print(number)\n",
    "        called.add(number)\n",
    "        for board in boards_obj_list:\n",
    "            if number not in board.pos_mapper:\n",
    "                continue\n",
    "            board.play_number(number)\n",
    "            if board.bingo:\n",
    "                return sum(board.pos_mapper.keys() - called) * number\n",
    "\n",
    "print(part_a())\n",
    "%timeit part_a()"
   ]
  },
  {
   "cell_type": "code",
   "execution_count": 10,
   "id": "0dfaaf9a-1284-439a-96ff-e2de75029ec6",
   "metadata": {},
   "outputs": [
    {
     "data": {
      "text/plain": [
       "Timer unit: 1e-06 s\n",
       "\n",
       "Total time: 0.001837 s\n",
       "File: <ipython-input-8-487b2af5ad75>\n",
       "Function: play_number at line 10\n",
       "\n",
       "Line #      Hits         Time  Per Hit   % Time  Line Contents\n",
       "==============================================================\n",
       "    10                                               def play_number(self, number):\n",
       "    11                                           \n",
       "    12       521        264.0      0.5     14.4          x, y = self.pos_mapper[number]\n",
       "    13       521        318.0      0.6     17.3          x_update = self.row_bingos.get(x, 0) + 1\n",
       "    14       521        284.0      0.5     15.5          y_update = self.column_bingos.get(y, 0) + 1\n",
       "    15       521        256.0      0.5     13.9          self.column_bingos[y] = y_update\n",
       "    16       521        224.0      0.4     12.2          self.row_bingos[x] = x_update\n",
       "    17       521        210.0      0.4     11.4          if y_update > self.column_max:\n",
       "    18       217         70.0      0.3      3.8              self.column_max = y_update\n",
       "    19       521        148.0      0.3      8.1          if x_update > self.row_max:\n",
       "    20       212         63.0      0.3      3.4              self.row_max = x_update\n",
       "    21                                                   # self.column_max = max(self.column_max, y_update)\n",
       "    22                                                   # self.row_max = max(self.row_max, x_update)\n",
       "\n",
       "Total time: 0.008391 s\n",
       "File: <ipython-input-9-4f9af01da355>\n",
       "Function: part_a at line 1\n",
       "\n",
       "Line #      Hits         Time  Per Hit   % Time  Line Contents\n",
       "==============================================================\n",
       "     1                                           def part_a():\n",
       "     2         1       1008.0   1008.0     12.0      boards_obj_list = [Board(board) for board in boards]\n",
       "     3                                           \n",
       "     4         1          1.0      1.0      0.0      called = set()\n",
       "     5                                           \n",
       "     6        22          8.0      0.4      0.1      for number in numbers:\n",
       "     7                                                   # print(number)\n",
       "     8        22         17.0      0.8      0.2          called.add(number)\n",
       "     9      2133       1202.0      0.6     14.3          for board in boards_obj_list:\n",
       "    10      2112       1051.0      0.5     12.5              if number not in board.pos_mapper:\n",
       "    11      1591       1090.0      0.7     13.0                  continue\n",
       "    12       521       3566.0      6.8     42.5              board.play_number(number)\n",
       "    13       521        416.0      0.8      5.0              if board.bingo:\n",
       "    14         1         32.0     32.0      0.4                  return sum(board.pos_mapper.keys() - called) * number"
      ]
     },
     "metadata": {},
     "output_type": "display_data"
    }
   ],
   "source": [
    "%lprun -f part_a -f Board.play_number part_a()"
   ]
  },
  {
   "cell_type": "code",
   "execution_count": 11,
   "id": "2f6e7c5c-1a45-4166-b071-3fc29201b96b",
   "metadata": {},
   "outputs": [
    {
     "name": "stdout",
     "output_type": "stream",
     "text": [
      "322 µs ± 3.62 µs per loop (mean ± std. dev. of 7 runs, 1000 loops each)\n"
     ]
    }
   ],
   "source": [
    "%timeit boards_obj_list = [Board(board) for board in boards] # re-initialization required"
   ]
  },
  {
   "cell_type": "code",
   "execution_count": 12,
   "id": "0c3e5703-85c3-44fb-8f4e-eb9bca05ab9d",
   "metadata": {
    "scrolled": true,
    "tags": []
   },
   "outputs": [
    {
     "name": "stdout",
     "output_type": "stream",
     "text": [
      "6804\n",
      "1.69 ms ± 15.5 µs per loop (mean ± std. dev. of 7 runs, 1000 loops each)\n"
     ]
    }
   ],
   "source": [
    "def part_b():\n",
    "    boards_list = [Board(board) for board in boards] # re-initialization required\n",
    "    non_bingoed_boards = set(range(len(boards)))\n",
    "    last_bingo_board = None\n",
    "    called_numbers = set()\n",
    "\n",
    "    for number in numbers:\n",
    "\n",
    "        bingoed_boards = set()\n",
    "        called_numbers.add(number)\n",
    "        for board_id in non_bingoed_boards:\n",
    "            board = boards_list[board_id]\n",
    "            if number not in board.pos_mapper:\n",
    "                continue\n",
    "            board.play_number(number)\n",
    "            if board.bingo:\n",
    "                bingoed_boards.add(board_id)\n",
    "                last_bingo_board = board\n",
    "        non_bingoed_boards = non_bingoed_boards - bingoed_boards\n",
    "\n",
    "        if not non_bingoed_boards:\n",
    "            return sum(last_bingo_board.pos_mapper.keys() - called_numbers) * number\n",
    "\n",
    "print(part_b())\n",
    "%timeit part_b()"
   ]
  },
  {
   "cell_type": "code",
   "execution_count": 13,
   "id": "f93b425e-592a-4732-ac52-81a3f5419bc6",
   "metadata": {},
   "outputs": [
    {
     "data": {
      "text/plain": [
       "Timer unit: 1e-06 s\n",
       "\n",
       "Total time: 0.018806 s\n",
       "File: <ipython-input-12-f5f3a619c190>\n",
       "Function: part_b at line 1\n",
       "\n",
       "Line #      Hits         Time  Per Hit   % Time  Line Contents\n",
       "==============================================================\n",
       "     1                                           def part_b():\n",
       "     2         1        984.0    984.0      5.2      boards_list = [Board(board) for board in boards] # re-initialization required\n",
       "     3         1          4.0      4.0      0.0      non_bingoed_boards = set(range(len(boards)))\n",
       "     4         1          0.0      0.0      0.0      last_bingo_board = None\n",
       "     5         1          1.0      1.0      0.0      called_numbers = set()\n",
       "     6                                           \n",
       "     7        87         74.0      0.9      0.4      for number in numbers:\n",
       "     8                                           \n",
       "     9        87         46.0      0.5      0.2          bingoed_boards = set()\n",
       "    10        87         49.0      0.6      0.3          called_numbers.add(number)\n",
       "    11      6035       3039.0      0.5     16.2          for board_id in non_bingoed_boards:\n",
       "    12      5948       3229.0      0.5     17.2              board = boards_list[board_id]\n",
       "    13      5948       3608.0      0.6     19.2              if number not in board.pos_mapper:\n",
       "    14      4421       1824.0      0.4      9.7                  continue\n",
       "    15      1527       4195.0      2.7     22.3              board.play_number(number)\n",
       "    16      1527       1360.0      0.9      7.2              if board.bingo:\n",
       "    17       100         45.0      0.5      0.2                  bingoed_boards.add(board_id)\n",
       "    18       100         74.0      0.7      0.4                  last_bingo_board = board\n",
       "    19        87        216.0      2.5      1.1          non_bingoed_boards = non_bingoed_boards - bingoed_boards\n",
       "    20                                           \n",
       "    21        87         47.0      0.5      0.2          if not non_bingoed_boards:\n",
       "    22         1         11.0     11.0      0.1              return sum(last_bingo_board.pos_mapper.keys() - called_numbers) * number"
      ]
     },
     "metadata": {},
     "output_type": "display_data"
    }
   ],
   "source": [
    "%lprun -f part_b part_b()"
   ]
  },
  {
   "cell_type": "code",
   "execution_count": null,
   "id": "fc9b41d1-b237-4a86-9f73-251216448b0f",
   "metadata": {},
   "outputs": [],
   "source": []
  }
 ],
 "metadata": {
  "kernelspec": {
   "display_name": "Python 3",
   "language": "python",
   "name": "python3"
  },
  "language_info": {
   "codemirror_mode": {
    "name": "ipython",
    "version": 3
   },
   "file_extension": ".py",
   "mimetype": "text/x-python",
   "name": "python",
   "nbconvert_exporter": "python",
   "pygments_lexer": "ipython3",
   "version": "3.9.7"
  }
 },
 "nbformat": 4,
 "nbformat_minor": 5
}
