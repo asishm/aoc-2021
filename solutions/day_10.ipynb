{
 "cells": [
  {
   "cell_type": "code",
   "execution_count": 1,
   "id": "8a019bf0-a511-4246-be4d-3b3113d9077f",
   "metadata": {},
   "outputs": [],
   "source": [
    "import sys\n",
    "import string\n",
    "import itertools\n",
    "from collections import Counter, defaultdict\n",
    "import re\n",
    "\n",
    "from pathlib import Path\n",
    "import os\n",
    "\n",
    "import pandas as pd\n",
    "import numpy as np\n",
    "import matplotlib.pyplot as plt\n",
    "import math"
   ]
  },
  {
   "cell_type": "code",
   "execution_count": 2,
   "id": "f000eba3-2fdb-4fa4-a51e-d930fcfe6db7",
   "metadata": {},
   "outputs": [],
   "source": [
    "%load_ext line_profiler"
   ]
  },
  {
   "cell_type": "code",
   "execution_count": 3,
   "id": "a93e2a46-b27c-4503-9914-c8ea7e16b6fa",
   "metadata": {},
   "outputs": [],
   "source": [
    "data = Path('../data/day_10.txt').read_text().splitlines()"
   ]
  },
  {
   "cell_type": "code",
   "execution_count": 7,
   "id": "1bae7499-e6fc-495e-b40a-2084068936ad",
   "metadata": {},
   "outputs": [
    {
     "name": "stdout",
     "output_type": "stream",
     "text": [
      "(45, 167379, 2776842859)\n",
      "(5, 26397, 288957)\n",
      "572 µs ± 3.24 µs per loop (mean ± std. dev. of 7 runs, 1000 loops each)\n"
     ]
    }
   ],
   "source": [
    "def part_a(data):\n",
    "    corrupt_count = 0\n",
    "    corrupt_score = 0\n",
    "    incomplete_score = []\n",
    "    \n",
    "    corrupt_mapping = {\n",
    "        ')': 3,\n",
    "        ']': 57,\n",
    "        '}': 1197,\n",
    "        '>': 25137\n",
    "    }\n",
    "    incomplete_mapping = {\n",
    "        '(': 1,\n",
    "        '[': 2,\n",
    "        '{': 3,\n",
    "        '<': 4\n",
    "    }\n",
    "    opposite_mapping = {\n",
    "        ')': '(',\n",
    "        ']': '[',\n",
    "        '}': '{',\n",
    "        '>': '<'\n",
    "    }\n",
    "\n",
    "    opens = set('({[<')\n",
    "    for line in data:\n",
    "        line = line.strip()\n",
    "        stack = []\n",
    "        for c in line:\n",
    "            line_score = 0\n",
    "            if c in opens:\n",
    "                stack.append(c)\n",
    "            else:\n",
    "                most_recent_open = stack.pop()\n",
    "                if opposite_mapping[c] != most_recent_open:\n",
    "                    corrupt_count += 1\n",
    "                    corrupt_score += corrupt_mapping[c]\n",
    "                    break\n",
    "        else: # no-break i.e. not corrupt\n",
    "            for c in stack[::-1]:\n",
    "                line_score = line_score * 5 + incomplete_mapping[c]\n",
    "            incomplete_score.append(line_score)\n",
    "    return corrupt_count, corrupt_score, sorted(incomplete_score)[len(incomplete_score) // 2]\n",
    "\n",
    "print(part_a(data))\n",
    "\n",
    "print(part_a('''[({(<(())[]>[[{[]{<()<>>\n",
    "[(()[<>])]({[<{<<[]>>(\n",
    "{([(<{}[<>[]}>{[]{[(<()>\n",
    "(((({<>}<{<{<>}{[]{[]{}\n",
    "[[<[([]))<([[{}[[()]]]\n",
    "[{[{({}]{}}([{[{{{}}([]\n",
    "{<[[]]>}<{[{[{[]{()[[[]\n",
    "[<(<(<(<{}))><([]([]()\n",
    "<{([([[(<>()){}]>(<<{{\n",
    "<{([{{}}[<[[[<>{}]]]>[]]'''.splitlines()))\n",
    "%timeit part_a(data)"
   ]
  },
  {
   "cell_type": "code",
   "execution_count": 5,
   "id": "db4e0887-ab57-413b-80e1-1c247d730389",
   "metadata": {},
   "outputs": [
    {
     "data": {
      "text/plain": [
       "Timer unit: 1e-06 s\n",
       "\n",
       "Total time: 0.018137 s\n",
       "File: <ipython-input-4-52ed3f99b8ee>\n",
       "Function: part_a at line 1\n",
       "\n",
       "Line #      Hits         Time  Per Hit   % Time  Line Contents\n",
       "==============================================================\n",
       "     1                                           def part_a(data):\n",
       "     2         1          2.0      2.0      0.0      corrupt_count = 0\n",
       "     3         1          1.0      1.0      0.0      corrupt_score = 0\n",
       "     4         1          0.0      0.0      0.0      incomplete_score = []\n",
       "     5                                               \n",
       "     6         1          1.0      1.0      0.0      corrupt_mapping = {\n",
       "     7         1          1.0      1.0      0.0          ')': 3,\n",
       "     8         1          1.0      1.0      0.0          ']': 57,\n",
       "     9         1          0.0      0.0      0.0          '}': 1197,\n",
       "    10         1          0.0      0.0      0.0          '>': 25137\n",
       "    11                                               }\n",
       "    12         1          0.0      0.0      0.0      incomplete_mapping = {\n",
       "    13         1          0.0      0.0      0.0          '(': 1,\n",
       "    14         1          0.0      0.0      0.0          '[': 2,\n",
       "    15         1          1.0      1.0      0.0          '{': 3,\n",
       "    16         1          0.0      0.0      0.0          '<': 4\n",
       "    17                                               }\n",
       "    18         1          1.0      1.0      0.0      opposite_mapping = {\n",
       "    19         1          1.0      1.0      0.0          ')': '(',\n",
       "    20         1          1.0      1.0      0.0          ']': '[',\n",
       "    21         1          1.0      1.0      0.0          '}': '{',\n",
       "    22         1          1.0      1.0      0.0          '>': '<'\n",
       "    23                                               }\n",
       "    24                                           \n",
       "    25         1          2.0      2.0      0.0      opens = set('({[<')\n",
       "    26        91         55.0      0.6      0.3      for line in data:\n",
       "    27        90         70.0      0.8      0.4          line = line.strip()\n",
       "    28        90         62.0      0.7      0.3          stack = []\n",
       "    29      7301       3698.0      0.5     20.4          for c in line:\n",
       "    30      7256       3268.0      0.5     18.0              line_score = 0\n",
       "    31      7256       3569.0      0.5     19.7              if c in opens:\n",
       "    32      4192       3240.0      0.8     17.9                  stack.append(c)\n",
       "    33                                                       else:\n",
       "    34      3064       1659.0      0.5      9.1                  most_recent_open = stack.pop()\n",
       "    35      3064       1670.0      0.5      9.2                  if opposite_mapping[c] != most_recent_open:\n",
       "    36        45         28.0      0.6      0.2                      corrupt_count += 1\n",
       "    37        45         32.0      0.7      0.2                      corrupt_score += corrupt_mapping[c]\n",
       "    38        45         27.0      0.6      0.1                      break\n",
       "    39                                                   else: # no-break i.e. not corrupt\n",
       "    40       633        333.0      0.5      1.8              for c in stack[::-1]:\n",
       "    41       588        369.0      0.6      2.0                  line_score = line_score * 5 + incomplete_mapping[c]\n",
       "    42        45         33.0      0.7      0.2              incomplete_score.append(line_score)\n",
       "    43         1         10.0     10.0      0.1      return corrupt_count, corrupt_score, sorted(incomplete_score)[len(incomplete_score) // 2]"
      ]
     },
     "metadata": {},
     "output_type": "display_data"
    }
   ],
   "source": [
    "%lprun -f part_a part_a(data)"
   ]
  },
  {
   "cell_type": "code",
   "execution_count": 6,
   "id": "4b6a41bc-595f-4154-a747-7dce66fc6c7a",
   "metadata": {},
   "outputs": [
    {
     "name": "stdout",
     "output_type": "stream",
     "text": [
      "None\n"
     ]
    }
   ],
   "source": [
    "def part_b():\n",
    "    # see part a\n",
    "    pass\n",
    "\n",
    "print(part_b())\n",
    "# %timeit part_b()"
   ]
  }
 ],
 "metadata": {
  "kernelspec": {
   "display_name": "Python 3",
   "language": "python",
   "name": "python3"
  },
  "language_info": {
   "codemirror_mode": {
    "name": "ipython",
    "version": 3
   },
   "file_extension": ".py",
   "mimetype": "text/x-python",
   "name": "python",
   "nbconvert_exporter": "python",
   "pygments_lexer": "ipython3",
   "version": "3.9.7"
  }
 },
 "nbformat": 4,
 "nbformat_minor": 5
}
