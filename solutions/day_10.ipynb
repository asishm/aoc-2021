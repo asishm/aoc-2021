{
 "cells": [
  {
   "cell_type": "code",
   "execution_count": 1,
   "id": "8a019bf0-a511-4246-be4d-3b3113d9077f",
   "metadata": {},
   "outputs": [],
   "source": [
    "import sys\n",
    "import string\n",
    "import itertools\n",
    "from collections import Counter, defaultdict\n",
    "import re\n",
    "\n",
    "from pathlib import Path\n",
    "import os\n",
    "\n",
    "import pandas as pd\n",
    "import numpy as np\n",
    "import matplotlib.pyplot as plt\n",
    "import math"
   ]
  },
  {
   "cell_type": "code",
   "execution_count": 2,
   "id": "f000eba3-2fdb-4fa4-a51e-d930fcfe6db7",
   "metadata": {},
   "outputs": [],
   "source": [
    "%load_ext line_profiler"
   ]
  },
  {
   "cell_type": "code",
   "execution_count": 3,
   "id": "a93e2a46-b27c-4503-9914-c8ea7e16b6fa",
   "metadata": {},
   "outputs": [],
   "source": [
    "data = Path('../data/day_10.txt').read_text().splitlines()"
   ]
  },
  {
   "cell_type": "code",
   "execution_count": 4,
   "id": "1bae7499-e6fc-495e-b40a-2084068936ad",
   "metadata": {},
   "outputs": [
    {
     "name": "stdout",
     "output_type": "stream",
     "text": [
      "(167379, 2776842859)\n",
      "(26397, 288957)\n",
      "576 µs ± 7.81 µs per loop (mean ± std. dev. of 7 runs, 1000 loops each)\n"
     ]
    }
   ],
   "source": [
    "def part_a(data):\n",
    "    # corrupt_count = 0\n",
    "    corrupt_score = 0\n",
    "    incomplete_score = []\n",
    "    \n",
    "    corrupt_mapping = {\n",
    "        ')': 3,\n",
    "        ']': 57,\n",
    "        '}': 1197,\n",
    "        '>': 25137\n",
    "    }\n",
    "    incomplete_mapping = {\n",
    "        '(': 1,\n",
    "        '[': 2,\n",
    "        '{': 3,\n",
    "        '<': 4\n",
    "    }\n",
    "    opposite_mapping = {\n",
    "        ')': '(',\n",
    "        ']': '[',\n",
    "        '}': '{',\n",
    "        '>': '<'\n",
    "    }\n",
    "\n",
    "    for line in data:\n",
    "        line = line.strip()\n",
    "        stack = []\n",
    "        for c in line:\n",
    "            line_score = 0\n",
    "            if c in '({[<':\n",
    "                stack.append(c)\n",
    "            else:\n",
    "                most_recent_open = stack.pop()\n",
    "                if opposite_mapping[c] != most_recent_open:\n",
    "                    # corrupt_count += 1\n",
    "                    corrupt_score += corrupt_mapping[c]\n",
    "                    break\n",
    "        else: # no-break i.e. not corrupt\n",
    "            for c in stack[::-1]:\n",
    "                line_score = line_score * 5 + incomplete_mapping[c]\n",
    "            incomplete_score.append(line_score)\n",
    "    return corrupt_score, sorted(incomplete_score)[len(incomplete_score) // 2]\n",
    "\n",
    "print(part_a(data))\n",
    "\n",
    "print(part_a('''[({(<(())[]>[[{[]{<()<>>\n",
    "[(()[<>])]({[<{<<[]>>(\n",
    "{([(<{}[<>[]}>{[]{[(<()>\n",
    "(((({<>}<{<{<>}{[]{[]{}\n",
    "[[<[([]))<([[{}[[()]]]\n",
    "[{[{({}]{}}([{[{{{}}([]\n",
    "{<[[]]>}<{[{[{[]{()[[[]\n",
    "[<(<(<(<{}))><([]([]()\n",
    "<{([([[(<>()){}]>(<<{{\n",
    "<{([{{}}[<[[[<>{}]]]>[]]'''.splitlines()))\n",
    "%timeit part_a(data)"
   ]
  },
  {
   "cell_type": "code",
   "execution_count": 5,
   "id": "4b6a41bc-595f-4154-a747-7dce66fc6c7a",
   "metadata": {},
   "outputs": [
    {
     "name": "stdout",
     "output_type": "stream",
     "text": [
      "None\n"
     ]
    }
   ],
   "source": [
    "def part_b():\n",
    "    # see part a\n",
    "    pass\n",
    "\n",
    "print(part_b())\n",
    "# %timeit part_b()"
   ]
  },
  {
   "cell_type": "code",
   "execution_count": null,
   "id": "eaf14a91-4faf-4047-8b29-4f650d387e35",
   "metadata": {},
   "outputs": [],
   "source": []
  }
 ],
 "metadata": {
  "kernelspec": {
   "display_name": "Python 3",
   "language": "python",
   "name": "python3"
  },
  "language_info": {
   "codemirror_mode": {
    "name": "ipython",
    "version": 3
   },
   "file_extension": ".py",
   "mimetype": "text/x-python",
   "name": "python",
   "nbconvert_exporter": "python",
   "pygments_lexer": "ipython3",
   "version": "3.9.7"
  }
 },
 "nbformat": 4,
 "nbformat_minor": 5
}
