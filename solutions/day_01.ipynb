{
 "cells": [
  {
   "cell_type": "code",
   "execution_count": 1,
   "id": "c1b3c02d-3862-43d4-b705-2fd22a65c04b",
   "metadata": {},
   "outputs": [],
   "source": [
    "import sys\n",
    "import string\n",
    "import itertools\n",
    "from collections import Counter, defaultdict\n",
    "import re"
   ]
  },
  {
   "cell_type": "code",
   "execution_count": 2,
   "id": "de93d6c2-f891-440d-8bb9-7cdf5db2e2e4",
   "metadata": {},
   "outputs": [
    {
     "data": {
      "text/plain": [
       "PosixPath('/home/asishm/aoc_2021/solutions')"
      ]
     },
     "execution_count": 2,
     "metadata": {},
     "output_type": "execute_result"
    }
   ],
   "source": [
    "from pathlib import Path\n",
    "import os\n",
    "Path().resolve()"
   ]
  },
  {
   "cell_type": "code",
   "execution_count": 3,
   "id": "5e0b814d-7e16-4236-a632-f4df3df35c52",
   "metadata": {},
   "outputs": [],
   "source": [
    "data = Path('../data/day_01.txt').read_text()"
   ]
  },
  {
   "cell_type": "code",
   "execution_count": 4,
   "id": "e8b494a3-d3d5-45d8-b1f8-e9a41145c275",
   "metadata": {},
   "outputs": [],
   "source": [
    "import pandas as pd"
   ]
  },
  {
   "cell_type": "code",
   "execution_count": 5,
   "id": "1144adb4-2d1d-43ec-8b20-5f33e909065a",
   "metadata": {},
   "outputs": [],
   "source": [
    "s = pd.Series(data.split()).astype(int)"
   ]
  },
  {
   "cell_type": "code",
   "execution_count": 6,
   "id": "28794747-4fa8-43d3-9d5a-7a13bc1f41bf",
   "metadata": {},
   "outputs": [
    {
     "data": {
      "text/plain": [
       "0        191\n",
       "1        192\n",
       "2        201\n",
       "3        205\n",
       "4        206\n",
       "        ... \n",
       "1995    5777\n",
       "1996    5788\n",
       "1997    5787\n",
       "1998    5783\n",
       "1999    5791\n",
       "Length: 2000, dtype: int64"
      ]
     },
     "execution_count": 6,
     "metadata": {},
     "output_type": "execute_result"
    }
   ],
   "source": [
    "s"
   ]
  },
  {
   "cell_type": "code",
   "execution_count": 7,
   "id": "2e1f3cfe-a87f-46fd-a81d-de3e8c5d4aa8",
   "metadata": {},
   "outputs": [
    {
     "data": {
      "text/plain": [
       "1374"
      ]
     },
     "execution_count": 7,
     "metadata": {},
     "output_type": "execute_result"
    }
   ],
   "source": [
    "s.diff().gt(0).sum()"
   ]
  },
  {
   "cell_type": "code",
   "execution_count": 8,
   "id": "f3fd3c58-aa78-44da-8593-f8a1c60a224b",
   "metadata": {},
   "outputs": [
    {
     "data": {
      "text/plain": [
       "1418"
      ]
     },
     "execution_count": 8,
     "metadata": {},
     "output_type": "execute_result"
    }
   ],
   "source": [
    "s.rolling(3).sum().diff().gt(0).sum()"
   ]
  },
  {
   "cell_type": "code",
   "execution_count": 9,
   "id": "33a34c5c-8028-43ad-a76c-12a1a5dd0574",
   "metadata": {},
   "outputs": [
    {
     "data": {
      "text/plain": [
       "1374"
      ]
     },
     "execution_count": 9,
     "metadata": {},
     "output_type": "execute_result"
    }
   ],
   "source": [
    "data2 = [int(k) for k in data.split()]\n",
    "\n",
    "diff_gt_0_count = sum(b > a for a,b in zip(data2, data2[1:]))\n",
    "diff_gt_0_count"
   ]
  },
  {
   "cell_type": "code",
   "execution_count": 10,
   "id": "19067ee6-8410-4aec-b6d7-845f829f2aa6",
   "metadata": {},
   "outputs": [
    {
     "data": {
      "text/plain": [
       "1418"
      ]
     },
     "execution_count": 10,
     "metadata": {},
     "output_type": "execute_result"
    }
   ],
   "source": [
    "rolling_threes = [a+b+c for a,b,c in zip(data2, data2[1:], data2[2:])]\n",
    "\n",
    "diff_rolling3_dt_0_count = sum(b > a for a,b in zip(rolling_threes, rolling_threes[1:]))\n",
    "diff_rolling3_dt_0_count"
   ]
  },
  {
   "cell_type": "code",
   "execution_count": 11,
   "id": "7606c8a0-e75b-49d3-ba91-8783a06a269b",
   "metadata": {},
   "outputs": [
    {
     "data": {
      "text/plain": [
       "1418"
      ]
     },
     "execution_count": 11,
     "metadata": {},
     "output_type": "execute_result"
    }
   ],
   "source": [
    "diff_3_dt_0_count = sum(b > a for a,b in zip(data2, data2[3:])) # since middle two is common in the rolling 3's - just need to compare first and last ones\n",
    "diff_3_dt_0_count"
   ]
  },
  {
   "cell_type": "code",
   "execution_count": 12,
   "id": "8c76bca3-2725-43a4-afff-29a51b9e4271",
   "metadata": {},
   "outputs": [
    {
     "data": {
      "text/plain": [
       "1418"
      ]
     },
     "execution_count": 12,
     "metadata": {},
     "output_type": "execute_result"
    }
   ],
   "source": [
    "# pandas no rolling part 2\n",
    "s.gt(s.shift(3)).sum()"
   ]
  },
  {
   "cell_type": "code",
   "execution_count": 13,
   "id": "0e6c82fd-e986-4df5-b4ec-ac9891c457e7",
   "metadata": {},
   "outputs": [
    {
     "name": "stdout",
     "output_type": "stream",
     "text": [
      "189 µs ± 9.95 µs per loop (mean ± std. dev. of 7 runs, 1000 loops each)\n",
      "164 µs ± 4.28 µs per loop (mean ± std. dev. of 7 runs, 10000 loops each)\n",
      "243 µs ± 2.18 µs per loop (mean ± std. dev. of 7 runs, 1000 loops each)\n",
      "331 µs ± 5.83 µs per loop (mean ± std. dev. of 7 runs, 1000 loops each)\n",
      "91.3 µs ± 424 ns per loop (mean ± std. dev. of 7 runs, 10000 loops each)\n"
     ]
    }
   ],
   "source": [
    "%timeit (s > s.shift(3)).sum()\n",
    "\n",
    "%timeit s.gt(s.shift(3)).sum()\n",
    "\n",
    "%timeit (s - s.shift()).gt(0).sum()\n",
    "\n",
    "%timeit s.rolling(3).sum().diff().gt(0).sum()\n",
    "\n",
    "%timeit sum(b > a for a,b in zip(data2, data2[3:]))"
   ]
  },
  {
   "cell_type": "code",
   "execution_count": 14,
   "id": "17322491-72e9-47a2-8a11-4e1a25e4aece",
   "metadata": {},
   "outputs": [
    {
     "data": {
      "text/plain": [
       "2000"
      ]
     },
     "execution_count": 14,
     "metadata": {},
     "output_type": "execute_result"
    }
   ],
   "source": [
    "len(s)"
   ]
  }
 ],
 "metadata": {
  "kernelspec": {
   "display_name": "Python 3",
   "language": "python",
   "name": "python3"
  },
  "language_info": {
   "codemirror_mode": {
    "name": "ipython",
    "version": 3
   },
   "file_extension": ".py",
   "mimetype": "text/x-python",
   "name": "python",
   "nbconvert_exporter": "python",
   "pygments_lexer": "ipython3",
   "version": "3.9.7"
  }
 },
 "nbformat": 4,
 "nbformat_minor": 5
}
