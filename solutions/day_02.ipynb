{
 "cells": [
  {
   "cell_type": "code",
   "execution_count": 1,
   "id": "db8f7ad8-9d44-4136-a7a2-ff27d8da7fc9",
   "metadata": {},
   "outputs": [],
   "source": [
    "import sys\n",
    "import string\n",
    "import itertools\n",
    "from collections import Counter, defaultdict\n",
    "import re\n",
    "\n",
    "from pathlib import Path\n",
    "import os\n",
    "\n",
    "import pandas as pd\n",
    "import numpy as np"
   ]
  },
  {
   "cell_type": "code",
   "execution_count": 7,
   "id": "83bc53d7-f9bd-4c48-b7b2-274b3a203064",
   "metadata": {},
   "outputs": [],
   "source": [
    "data = Path('../data/day_02.txt').read_text()"
   ]
  },
  {
   "cell_type": "code",
   "execution_count": 12,
   "id": "463a4e39-8507-4e6a-9837-6b9db8f90485",
   "metadata": {},
   "outputs": [
    {
     "name": "stdout",
     "output_type": "stream",
     "text": [
      "2027977\n"
     ]
    }
   ],
   "source": [
    "pos_x = pos_y = 0\n",
    "for line in data.splitlines():\n",
    "    dir_, val = line.strip().split()\n",
    "    val = int(val)\n",
    "    if dir_ == 'forward':\n",
    "        pos_x += val\n",
    "    elif dir_ == 'up':\n",
    "        pos_y -= val\n",
    "    else:\n",
    "        pos_y += val\n",
    "\n",
    "print(pos_x * pos_y)"
   ]
  },
  {
   "cell_type": "code",
   "execution_count": 13,
   "id": "357345f7-71f9-4bb7-856f-92e745cad24b",
   "metadata": {},
   "outputs": [
    {
     "name": "stdout",
     "output_type": "stream",
     "text": [
      "1903644897\n"
     ]
    }
   ],
   "source": [
    "pos_x = pos_y = aim = 0\n",
    "for line in data.splitlines():\n",
    "    dir_, val = line.strip().split()\n",
    "    val = int(val)\n",
    "    if dir_ == 'forward':\n",
    "        pos_x += val\n",
    "        pos_y += (aim * val)\n",
    "    elif dir_ == 'up':\n",
    "        aim -= val\n",
    "    else:\n",
    "        aim += val\n",
    "\n",
    "print(pos_x * pos_y)"
   ]
  },
  {
   "cell_type": "code",
   "execution_count": null,
   "id": "4cd51175-2808-462e-bdc9-03c2e431a37f",
   "metadata": {},
   "outputs": [],
   "source": []
  },
  {
   "cell_type": "code",
   "execution_count": null,
   "id": "153f6cfc-c6a3-44a7-9ac8-ce940afdd293",
   "metadata": {},
   "outputs": [],
   "source": []
  }
 ],
 "metadata": {
  "kernelspec": {
   "display_name": "Python 3",
   "language": "python",
   "name": "python3"
  },
  "language_info": {
   "codemirror_mode": {
    "name": "ipython",
    "version": 3
   },
   "file_extension": ".py",
   "mimetype": "text/x-python",
   "name": "python",
   "nbconvert_exporter": "python",
   "pygments_lexer": "ipython3",
   "version": "3.9.7"
  }
 },
 "nbformat": 4,
 "nbformat_minor": 5
}
