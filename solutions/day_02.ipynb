{
 "cells": [
  {
   "cell_type": "code",
   "execution_count": 1,
   "id": "db8f7ad8-9d44-4136-a7a2-ff27d8da7fc9",
   "metadata": {},
   "outputs": [],
   "source": [
    "import sys\n",
    "import string\n",
    "import itertools\n",
    "from collections import Counter, defaultdict\n",
    "import re\n",
    "\n",
    "from pathlib import Path\n",
    "import os\n",
    "\n",
    "import pandas as pd\n",
    "import numpy as np"
   ]
  },
  {
   "cell_type": "code",
   "execution_count": 2,
   "id": "83bc53d7-f9bd-4c48-b7b2-274b3a203064",
   "metadata": {},
   "outputs": [],
   "source": [
    "data = Path('../data/day_02.txt').read_text()"
   ]
  },
  {
   "cell_type": "code",
   "execution_count": 3,
   "id": "97307803-fcfe-4aa7-81ad-896a802b9b43",
   "metadata": {},
   "outputs": [
    {
     "name": "stdout",
     "output_type": "stream",
     "text": [
      "233 µs ± 5.16 µs per loop (mean ± std. dev. of 7 runs, 1000 loops each)\n"
     ]
    }
   ],
   "source": [
    "%%timeit\n",
    "parsed_data = [(direction, int(amt)) for direction, amt in [line.split() for line in data.splitlines()]]"
   ]
  },
  {
   "cell_type": "code",
   "execution_count": 4,
   "id": "07fe50aa-ba47-41fe-a5cf-1e4816b57a8e",
   "metadata": {},
   "outputs": [],
   "source": [
    "parsed_data = [(direction, int(amt)) for direction, amt in [line.split() for line in data.splitlines()]]"
   ]
  },
  {
   "cell_type": "code",
   "execution_count": 5,
   "id": "463a4e39-8507-4e6a-9837-6b9db8f90485",
   "metadata": {},
   "outputs": [],
   "source": [
    "def part1(parsed_data):\n",
    "    pos_x = pos_y = 0\n",
    "    for dir_, val in parsed_data:\n",
    "        if dir_ == 'forward':\n",
    "            pos_x += val\n",
    "        elif dir_ == 'up':\n",
    "            pos_y -= val\n",
    "        else:\n",
    "            pos_y += val\n",
    "\n",
    "    return pos_x * pos_y"
   ]
  },
  {
   "cell_type": "code",
   "execution_count": 6,
   "id": "b5f69c70-a8a3-42dc-bd4e-33072ee77e9e",
   "metadata": {},
   "outputs": [
    {
     "name": "stdout",
     "output_type": "stream",
     "text": [
      "Part 1: 2027977\n"
     ]
    }
   ],
   "source": [
    "print(\"Part 1:\", part1(parsed_data))"
   ]
  },
  {
   "cell_type": "code",
   "execution_count": 7,
   "id": "c654bbd5-5f3f-40e7-9462-4671f0961b32",
   "metadata": {},
   "outputs": [
    {
     "name": "stdout",
     "output_type": "stream",
     "text": [
      "61.8 µs ± 1.79 µs per loop (mean ± std. dev. of 7 runs, 10000 loops each)\n"
     ]
    }
   ],
   "source": [
    "%timeit part1(parsed_data)"
   ]
  },
  {
   "cell_type": "code",
   "execution_count": 8,
   "id": "357345f7-71f9-4bb7-856f-92e745cad24b",
   "metadata": {},
   "outputs": [],
   "source": [
    "def part2(parsed_data):\n",
    "    pos_x = pos_y = aim = 0\n",
    "    for dir_, val in parsed_data:\n",
    "        if dir_ == 'forward':\n",
    "            pos_x += val\n",
    "            pos_y += (aim * val)\n",
    "        elif dir_ == 'up':\n",
    "            aim -= val\n",
    "        else:\n",
    "            aim += val\n",
    "\n",
    "    return pos_x * pos_y"
   ]
  },
  {
   "cell_type": "code",
   "execution_count": 9,
   "id": "f305843e-c961-4d26-ada6-01e406d8fe07",
   "metadata": {},
   "outputs": [
    {
     "name": "stdout",
     "output_type": "stream",
     "text": [
      "Part 2: 1903644897\n"
     ]
    }
   ],
   "source": [
    "print(\"Part 2:\", part2(parsed_data))"
   ]
  },
  {
   "cell_type": "code",
   "execution_count": 10,
   "id": "40a5b3e0-8992-4171-b7f3-876cf96f5b13",
   "metadata": {},
   "outputs": [
    {
     "name": "stdout",
     "output_type": "stream",
     "text": [
      "81.6 µs ± 3.29 µs per loop (mean ± std. dev. of 7 runs, 10000 loops each)\n"
     ]
    }
   ],
   "source": [
    "%timeit part2(parsed_data)"
   ]
  }
 ],
 "metadata": {
  "kernelspec": {
   "display_name": "Python 3",
   "language": "python",
   "name": "python3"
  },
  "language_info": {
   "codemirror_mode": {
    "name": "ipython",
    "version": 3
   },
   "file_extension": ".py",
   "mimetype": "text/x-python",
   "name": "python",
   "nbconvert_exporter": "python",
   "pygments_lexer": "ipython3",
   "version": "3.9.7"
  }
 },
 "nbformat": 4,
 "nbformat_minor": 5
}
