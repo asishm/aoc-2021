{
 "cells": [
  {
   "cell_type": "code",
   "execution_count": 1,
   "id": "7b1c52a9-285f-46eb-9a46-95418249f53d",
   "metadata": {},
   "outputs": [],
   "source": [
    "import sys\n",
    "import string\n",
    "import itertools\n",
    "from collections import Counter, defaultdict\n",
    "import re\n",
    "\n",
    "from pathlib import Path\n",
    "import os\n",
    "\n",
    "import pandas as pd\n",
    "import numpy as np\n",
    "import matplotlib.pyplot as plt"
   ]
  },
  {
   "cell_type": "code",
   "execution_count": 2,
   "id": "36653cab-aa58-4f47-b410-108a1ada04de",
   "metadata": {},
   "outputs": [],
   "source": [
    "%load_ext line_profiler"
   ]
  },
  {
   "cell_type": "code",
   "execution_count": 3,
   "id": "c54d3892-833e-4b3d-b9f6-46926ff76685",
   "metadata": {},
   "outputs": [],
   "source": [
    "data = Path('../data/day_07.txt').read_text()"
   ]
  },
  {
   "cell_type": "code",
   "execution_count": 4,
   "id": "16c3df5e-2cf9-4e94-8e57-10678fb72200",
   "metadata": {},
   "outputs": [],
   "source": [
    "positions = np.array(sorted([int(k) for k in data.split(',')]))"
   ]
  },
  {
   "cell_type": "code",
   "execution_count": 5,
   "id": "33c3dfb4-67a1-48dd-9f6b-67c9b0f22fe5",
   "metadata": {},
   "outputs": [
    {
     "data": {
      "text/plain": [
       "(1000, 667)"
      ]
     },
     "execution_count": 5,
     "metadata": {},
     "output_type": "execute_result"
    }
   ],
   "source": [
    "len(positions), len(Counter(positions))"
   ]
  },
  {
   "cell_type": "code",
   "execution_count": 6,
   "id": "0cb45573-9194-4db2-b47a-c26664577e2b",
   "metadata": {},
   "outputs": [
    {
     "name": "stdout",
     "output_type": "stream",
     "text": [
      "344138\n",
      "7.87 ms ± 281 µs per loop (mean ± std. dev. of 7 runs, 100 loops each)\n"
     ]
    }
   ],
   "source": [
    "def part_a(positions):\n",
    "    min_fuel = float('inf')\n",
    "    for pos in range(positions[0], positions[-1] + 1):\n",
    "        fuel_required = np.abs(positions - pos).sum()\n",
    "        if fuel_required < min_fuel:\n",
    "            min_fuel = fuel_required\n",
    "    return min_fuel\n",
    "\n",
    "print(part_a(positions))\n",
    "%timeit part_a(positions)"
   ]
  },
  {
   "cell_type": "code",
   "execution_count": 7,
   "id": "47d777cf-8e9f-42b5-954f-d6f216071823",
   "metadata": {},
   "outputs": [
    {
     "data": {
      "text/plain": [
       "Timer unit: 1e-06 s\n",
       "\n",
       "Total time: 0.018541 s\n",
       "File: <ipython-input-6-ec2cfd2c01e8>\n",
       "Function: part_a at line 1\n",
       "\n",
       "Line #      Hits         Time  Per Hit   % Time  Line Contents\n",
       "==============================================================\n",
       "     1                                           def part_a(positions):\n",
       "     2         1          2.0      2.0      0.0      min_fuel = float('inf')\n",
       "     3      1878        709.0      0.4      3.8      for pos in range(positions[0], positions[-1] + 1):\n",
       "     4      1877      16353.0      8.7     88.2          fuel_required = np.abs(positions - pos).sum()\n",
       "     5      1877       1212.0      0.6      6.5          if fuel_required < min_fuel:\n",
       "     6       359        265.0      0.7      1.4              min_fuel = fuel_required\n",
       "     7         1          0.0      0.0      0.0      return min_fuel"
      ]
     },
     "metadata": {},
     "output_type": "display_data"
    }
   ],
   "source": [
    "%lprun -f part_a part_a(positions)"
   ]
  },
  {
   "cell_type": "code",
   "execution_count": 8,
   "id": "b462310b-7ffe-4088-a422-6db8e2253433",
   "metadata": {},
   "outputs": [
    {
     "name": "stdout",
     "output_type": "stream",
     "text": [
      "94862124\n",
      "11.4 ms ± 308 µs per loop (mean ± std. dev. of 7 runs, 100 loops each)\n"
     ]
    }
   ],
   "source": [
    "def part_b(positions):\n",
    "    min_fuel = float('inf')\n",
    "    for pos in range(positions[0], positions[-1] + 1):\n",
    "        arr = np.abs(positions - pos)\n",
    "        fuel_required = (arr ** 2 + arr).sum()\n",
    "        if fuel_required < min_fuel:\n",
    "            min_fuel = fuel_required\n",
    "    return min_fuel // 2\n",
    "\n",
    "print(part_b(positions))\n",
    "%timeit part_b(positions)"
   ]
  },
  {
   "cell_type": "code",
   "execution_count": 9,
   "id": "6e1aff26-bfaf-4ab2-8572-70ef58e26b2a",
   "metadata": {},
   "outputs": [
    {
     "data": {
      "text/plain": [
       "Timer unit: 1e-06 s\n",
       "\n",
       "Total time: 0.01941 s\n",
       "File: <ipython-input-8-90db27476a84>\n",
       "Function: part_b at line 1\n",
       "\n",
       "Line #      Hits         Time  Per Hit   % Time  Line Contents\n",
       "==============================================================\n",
       "     1                                           def part_b(positions):\n",
       "     2         1          3.0      3.0      0.0      min_fuel = float('inf')\n",
       "     3      1878        629.0      0.3      3.2      for pos in range(positions[0], positions[-1] + 1):\n",
       "     4      1877       6609.0      3.5     34.0          arr = np.abs(positions - pos)\n",
       "     5      1877      11107.0      5.9     57.2          fuel_required = (arr ** 2 + arr).sum()\n",
       "     6      1877        875.0      0.5      4.5          if fuel_required < min_fuel:\n",
       "     7       483        186.0      0.4      1.0              min_fuel = fuel_required\n",
       "     8         1          1.0      1.0      0.0      return min_fuel // 2"
      ]
     },
     "metadata": {},
     "output_type": "display_data"
    }
   ],
   "source": [
    "%lprun -f part_b part_b(positions)"
   ]
  },
  {
   "cell_type": "code",
   "execution_count": 10,
   "id": "e414616a-61f3-4991-9285-02a5b5ac29b5",
   "metadata": {},
   "outputs": [
    {
     "data": {
      "text/plain": [
       "(94862124, 344138)"
      ]
     },
     "execution_count": 10,
     "metadata": {},
     "output_type": "execute_result"
    }
   ],
   "source": [
    "# %%timeit\n",
    "\n",
    "n = np.arange(positions[0], positions[-1] + 1)\n",
    "x = np.zeros((1000, positions[-1] + 1 - positions[0]), dtype=int)\n",
    "z = np.abs(x + n - positions.reshape(-1,1))\n",
    "(z * (z + 1)).sum(axis=0).min() // 2, z.sum(axis=0).min()"
   ]
  },
  {
   "cell_type": "code",
   "execution_count": 11,
   "id": "5dbd5337-9f65-4f21-866e-9e98c8b55e75",
   "metadata": {},
   "outputs": [
    {
     "data": {
      "image/png": "[encoded data removed]",
      "text/plain": [
       "<Figure size 432x288 with 1 Axes>"
      ]
     },
     "metadata": {
      "needs_background": "light"
     },
     "output_type": "display_data"
    }
   ],
   "source": [
    "plt.scatter(n, z.sum(axis=0), s=1, label='1')\n",
    "plt.scatter(n, (z * (z + 1) // 2).sum(axis=0), s=1, label='2')\n",
    "plt.scatter(n, (z * (z + 1) * (2 * z + 1) // 6).sum(axis=0), s=1, label='3')\n",
    "plt.scatter(n, ((z * (z + 1) // 2) ** 2).sum(axis=0), s=1, label='4')\n",
    "plt.yscale('log')\n",
    "plt.legend()\n",
    "plt.show()"
   ]
  }
 ],
 "metadata": {
  "kernelspec": {
   "display_name": "Python 3",
   "language": "python",
   "name": "python3"
  },
  "language_info": {
   "codemirror_mode": {
    "name": "ipython",
    "version": 3
   },
   "file_extension": ".py",
   "mimetype": "text/x-python",
   "name": "python",
   "nbconvert_exporter": "python",
   "pygments_lexer": "ipython3",
   "version": "3.9.7"
  }
 },
 "nbformat": 4,
 "nbformat_minor": 5
}
