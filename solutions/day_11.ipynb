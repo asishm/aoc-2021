{
 "cells": [
  {
   "cell_type": "code",
   "execution_count": 1,
   "id": "1716ab48-7cdb-4e6d-8d7d-79293bf2a841",
   "metadata": {},
   "outputs": [],
   "source": [
    "import sys\n",
    "import string\n",
    "import itertools\n",
    "from collections import Counter, defaultdict\n",
    "import re\n",
    "\n",
    "from pathlib import Path\n",
    "import os\n",
    "\n",
    "import pandas as pd\n",
    "import numpy as np\n",
    "import matplotlib.pyplot as plt\n",
    "import math\n",
    "import networkx as nx"
   ]
  },
  {
   "cell_type": "code",
   "execution_count": 2,
   "id": "a563e71d-04ee-4c51-9ca0-7a470bff59bf",
   "metadata": {},
   "outputs": [],
   "source": [
    "%load_ext line_profiler"
   ]
  },
  {
   "cell_type": "code",
   "execution_count": 3,
   "id": "5c672e8d-2803-46c2-9636-6cef3fa7c9a9",
   "metadata": {},
   "outputs": [],
   "source": [
    "data = Path('../data/day_11.txt').read_text()"
   ]
  },
  {
   "cell_type": "code",
   "execution_count": 4,
   "id": "14e4c23e-4932-4855-be21-6eb2a924df5a",
   "metadata": {},
   "outputs": [],
   "source": [
    "# start at 6:34"
   ]
  },
  {
   "cell_type": "code",
   "execution_count": 5,
   "id": "93e85fd5-6cde-4ec9-9a48-3735e963c1db",
   "metadata": {},
   "outputs": [],
   "source": [
    "octopii = [[int(k) for k in row] for row in data.splitlines()]"
   ]
  },
  {
   "cell_type": "code",
   "execution_count": 6,
   "id": "d4c6617d-a913-46e4-b50b-455b37d8ed2f",
   "metadata": {},
   "outputs": [
    {
     "name": "stdout",
     "output_type": "stream",
     "text": [
      "1656\n",
      "1723\n"
     ]
    }
   ],
   "source": [
    "def run_step(grid, nrows, ncols):\n",
    "    grid = grid + 1\n",
    "    flashed = set()\n",
    "    while True:\n",
    "        mask = grid > 159\n",
    "        flashed = mask.nonzero()\n",
    "        if flashed[0].shape[0] == 0:\n",
    "            break\n",
    "        grid[mask] = 0\n",
    "        for x, y in zip(*flashed):\n",
    "            grid[0 if x == 0 else x - 1: x + 2, 0 if y == 0 else y - 1: y + 2] += 1\n",
    "            # grid[x][y] = 0\n",
    "    mask = grid < 150\n",
    "    flashed_count = mask.sum()\n",
    "    grid = np.where(mask, 150, grid)\n",
    "    return grid, flashed_count\n",
    "\n",
    "def part_a(grid, steps):\n",
    "    nrow, ncol = grid.shape\n",
    "    grid = grid + 150 # random - just needs to be high enough (ideally nrow * ncol + max(grid))\n",
    "    flashed = 0\n",
    "    for iter_count in range(steps):\n",
    "        grid, flash_count = run_step(grid, nrow, ncol)\n",
    "        flashed += flash_count\n",
    "    return flashed\n",
    "\n",
    "print(part_a(np.array([[int(k) for k in row] for row in '''5483143223\n",
    "2745854711\n",
    "5264556173\n",
    "6141336146\n",
    "6357385478\n",
    "4167524645\n",
    "2176841721\n",
    "6882881134\n",
    "4846848554\n",
    "5283751526'''.splitlines()]), 100))\n",
    "print(part_a(np.array(octopii), 100))"
   ]
  },
  {
   "cell_type": "code",
   "execution_count": 7,
   "id": "b18cc727-f91b-457f-9a31-bbdf788d15d0",
   "metadata": {},
   "outputs": [
    {
     "name": "stdout",
     "output_type": "stream",
     "text": [
      "8.73 ms ± 72.8 µs per loop (mean ± std. dev. of 7 runs, 100 loops each)\n"
     ]
    }
   ],
   "source": [
    "%%timeit grid = np.array(octopii)\n",
    "part_a(grid, 100)"
   ]
  },
  {
   "cell_type": "code",
   "execution_count": 8,
   "id": "f53182e4-2671-4532-895a-4dbab5f28626",
   "metadata": {},
   "outputs": [
    {
     "data": {
      "text/plain": [
       "Timer unit: 1e-06 s\n",
       "\n",
       "Total time: 0.016474 s\n",
       "File: <ipython-input-6-5ce7b632cc84>\n",
       "Function: run_step at line 1\n",
       "\n",
       "Line #      Hits         Time  Per Hit   % Time  Line Contents\n",
       "==============================================================\n",
       "     1                                           def run_step(grid, nrows, ncols):\n",
       "     2       100        199.0      2.0      1.2      grid = grid + 1\n",
       "     3       100         53.0      0.5      0.3      flashed = set()\n",
       "     4                                               while True:\n",
       "     5       594       1112.0      1.9      6.8          mask = grid > 159\n",
       "     6       594       1142.0      1.9      6.9          flashed = mask.nonzero()\n",
       "     7       594        348.0      0.6      2.1          if flashed[0].shape[0] == 0:\n",
       "     8       100         30.0      0.3      0.2              break\n",
       "     9       494        730.0      1.5      4.4          grid[mask] = 0\n",
       "    10      2217       2365.0      1.1     14.4          for x, y in zip(*flashed):\n",
       "    11      1723       9175.0      5.3     55.7              grid[0 if x == 0 else x - 1: x + 2, 0 if y == 0 else y - 1: y + 2] += 1\n",
       "    12                                                       # grid[x][y] = 0\n",
       "    13       100        147.0      1.5      0.9      mask = grid < 150\n",
       "    14       100        534.0      5.3      3.2      flashed_count = mask.sum()\n",
       "    15       100        597.0      6.0      3.6      grid = np.where(mask, 150, grid)\n",
       "    16       100         42.0      0.4      0.3      return grid, flashed_count\n",
       "\n",
       "Total time: 0.019179 s\n",
       "File: <ipython-input-6-5ce7b632cc84>\n",
       "Function: part_a at line 18\n",
       "\n",
       "Line #      Hits         Time  Per Hit   % Time  Line Contents\n",
       "==============================================================\n",
       "    18                                           def part_a(grid, steps):\n",
       "    19         1          2.0      2.0      0.0      nrow, ncol = grid.shape\n",
       "    20         1         20.0     20.0      0.1      grid = grid + 150 # random - just needs to be high enough (ideally nrow * ncol + max(grid))\n",
       "    21         1          1.0      1.0      0.0      flashed = 0\n",
       "    22       101         42.0      0.4      0.2      for iter_count in range(steps):\n",
       "    23       100      19069.0    190.7     99.4          grid, flash_count = run_step(grid, nrow, ncol)\n",
       "    24       100         44.0      0.4      0.2          flashed += flash_count\n",
       "    25         1          1.0      1.0      0.0      return flashed"
      ]
     },
     "metadata": {},
     "output_type": "display_data"
    }
   ],
   "source": [
    "%lprun -f part_a -f run_step part_a(np.array(octopii, dtype=np.int16), 100)"
   ]
  },
  {
   "cell_type": "code",
   "execution_count": 9,
   "id": "6c14ed2d-3440-4128-ba04-f14ee9e5395f",
   "metadata": {},
   "outputs": [
    {
     "name": "stdout",
     "output_type": "stream",
     "text": [
      "195\n",
      "327\n"
     ]
    }
   ],
   "source": [
    "def part_b(grid):\n",
    "    nrow, ncol = grid.shape\n",
    "    grid = grid + 150\n",
    "    step = 0\n",
    "    while True:\n",
    "        step += 1\n",
    "        grid, _ = run_step(grid, nrow, ncol)\n",
    "        if (grid == 150).all():\n",
    "            break\n",
    "    return step\n",
    "\n",
    "print(part_b(np.array([[int(k) for k in row] for row in '''5483143223\n",
    "2745854711\n",
    "5264556173\n",
    "6141336146\n",
    "6357385478\n",
    "4167524645\n",
    "2176841721\n",
    "6882881134\n",
    "4846848554\n",
    "5283751526'''.splitlines()])))\n",
    "print(part_b(np.array(octopii)))\n"
   ]
  },
  {
   "cell_type": "code",
   "execution_count": 10,
   "id": "c5637b85-c2ec-4679-8358-cba1dfcc4d2e",
   "metadata": {},
   "outputs": [
    {
     "name": "stdout",
     "output_type": "stream",
     "text": [
      "29.4 ms ± 403 µs per loop (mean ± std. dev. of 7 runs, 10 loops each)\n"
     ]
    }
   ],
   "source": [
    "%%timeit grid = np.array(octopii)\n",
    "part_b(grid) "
   ]
  },
  {
   "cell_type": "code",
   "execution_count": 11,
   "id": "7cd05ad4-9d1b-4dcb-b678-e5f06701241f",
   "metadata": {},
   "outputs": [
    {
     "data": {
      "text/plain": [
       "Timer unit: 1e-06 s\n",
       "\n",
       "Total time: 0.047571 s\n",
       "File: <ipython-input-6-5ce7b632cc84>\n",
       "Function: run_step at line 1\n",
       "\n",
       "Line #      Hits         Time  Per Hit   % Time  Line Contents\n",
       "==============================================================\n",
       "     1                                           def run_step(grid, nrows, ncols):\n",
       "     2       327        576.0      1.8      1.2      grid = grid + 1\n",
       "     3       327        177.0      0.5      0.4      flashed = set()\n",
       "     4                                               while True:\n",
       "     5      1947       2907.0      1.5      6.1          mask = grid > 159\n",
       "     6      1947       4264.0      2.2      9.0          flashed = mask.nonzero()\n",
       "     7      1947       1196.0      0.6      2.5          if flashed[0].shape[0] == 0:\n",
       "     8       327        116.0      0.4      0.2              break\n",
       "     9      1620       2359.0      1.5      5.0          grid[mask] = 0\n",
       "    10      7058       6663.0      0.9     14.0          for x, y in zip(*flashed):\n",
       "    11      5438      25143.0      4.6     52.9              grid[0 if x == 0 else x - 1: x + 2, 0 if y == 0 else y - 1: y + 2] += 1\n",
       "    12                                                       # grid[x][y] = 0\n",
       "    13       327        449.0      1.4      0.9      mask = grid < 150\n",
       "    14       327       1705.0      5.2      3.6      flashed_count = mask.sum()\n",
       "    15       327       1867.0      5.7      3.9      grid = np.where(mask, 150, grid)\n",
       "    16       327        149.0      0.5      0.3      return grid, flashed_count\n",
       "\n",
       "Total time: 0.05786 s\n",
       "File: <ipython-input-9-e83d1cec4be4>\n",
       "Function: part_b at line 1\n",
       "\n",
       "Line #      Hits         Time  Per Hit   % Time  Line Contents\n",
       "==============================================================\n",
       "     1                                           def part_b(grid):\n",
       "     2         1          2.0      2.0      0.0      nrow, ncol = grid.shape\n",
       "     3         1          9.0      9.0      0.0      grid = grid + 150\n",
       "     4         1          0.0      0.0      0.0      step = 0\n",
       "     5                                               while True:\n",
       "     6       327        180.0      0.6      0.3          step += 1\n",
       "     7       327      55847.0    170.8     96.5          grid, _ = run_step(grid, nrow, ncol)\n",
       "     8       327       1822.0      5.6      3.1          if (grid == 150).all():\n",
       "     9         1          0.0      0.0      0.0              break\n",
       "    10         1          0.0      0.0      0.0      return step"
      ]
     },
     "metadata": {},
     "output_type": "display_data"
    }
   ],
   "source": [
    "%lprun -f part_b -f run_step part_b(np.array(octopii))"
   ]
  },
  {
   "cell_type": "code",
   "execution_count": null,
   "id": "c0c9b479-f6f5-4750-a7ee-f3618c9e1976",
   "metadata": {},
   "outputs": [],
   "source": []
  }
 ],
 "metadata": {
  "kernelspec": {
   "display_name": "Python 3",
   "language": "python",
   "name": "python3"
  },
  "language_info": {
   "codemirror_mode": {
    "name": "ipython",
    "version": 3
   },
   "file_extension": ".py",
   "mimetype": "text/x-python",
   "name": "python",
   "nbconvert_exporter": "python",
   "pygments_lexer": "ipython3",
   "version": "3.9.7"
  }
 },
 "nbformat": 4,
 "nbformat_minor": 5
}
