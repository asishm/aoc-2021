{
 "cells": [
  {
   "cell_type": "code",
   "execution_count": 1,
   "id": "1716ab48-7cdb-4e6d-8d7d-79293bf2a841",
   "metadata": {},
   "outputs": [],
   "source": [
    "import sys\n",
    "import string\n",
    "import itertools\n",
    "from collections import Counter, defaultdict\n",
    "import re\n",
    "\n",
    "from pathlib import Path\n",
    "import os\n",
    "\n",
    "import pandas as pd\n",
    "import numpy as np\n",
    "import matplotlib.pyplot as plt\n",
    "import math\n",
    "import networkx as nx"
   ]
  },
  {
   "cell_type": "code",
   "execution_count": 2,
   "id": "a563e71d-04ee-4c51-9ca0-7a470bff59bf",
   "metadata": {},
   "outputs": [],
   "source": [
    "%load_ext line_profiler"
   ]
  },
  {
   "cell_type": "code",
   "execution_count": 3,
   "id": "5c672e8d-2803-46c2-9636-6cef3fa7c9a9",
   "metadata": {},
   "outputs": [],
   "source": [
    "data = Path('../data/day_11.txt').read_text()"
   ]
  },
  {
   "cell_type": "code",
   "execution_count": 4,
   "id": "14e4c23e-4932-4855-be21-6eb2a924df5a",
   "metadata": {},
   "outputs": [],
   "source": [
    "# start at 6:34"
   ]
  },
  {
   "cell_type": "code",
   "execution_count": 5,
   "id": "93e85fd5-6cde-4ec9-9a48-3735e963c1db",
   "metadata": {},
   "outputs": [],
   "source": [
    "octopii = [[int(k) for k in row] for row in data.splitlines()]"
   ]
  },
  {
   "cell_type": "code",
   "execution_count": 6,
   "id": "d4c6617d-a913-46e4-b50b-455b37d8ed2f",
   "metadata": {},
   "outputs": [
    {
     "name": "stdout",
     "output_type": "stream",
     "text": [
      "1656\n",
      "1723\n"
     ]
    }
   ],
   "source": [
    "def run_step(grid, nrows, ncols):\n",
    "    grid = grid + 1\n",
    "    flashed = set()\n",
    "    while True:\n",
    "        xs, ys = np.where(grid > 9)\n",
    "        coords = set(zip(xs, ys))\n",
    "        new_flashed = coords - flashed\n",
    "        flashed.update(new_flashed)\n",
    "        if new_flashed:\n",
    "            # there were new that flashed\n",
    "            for x,y in new_flashed:\n",
    "                grid[\n",
    "                    0 if x == 0 else x - 1: x + 2,\n",
    "                    0 if y == 0 else y - 1: y + 2] += 1\n",
    "        else:\n",
    "            break\n",
    "    grid = np.where(grid > 9, 0, grid)\n",
    "    return grid, len(flashed)\n",
    "\n",
    "def part_a(grid, steps):\n",
    "    nrow, ncol = grid.shape\n",
    "    flashed = 0\n",
    "    for iter_count in range(steps):\n",
    "        grid, flash_count = run_step(grid, nrow, ncol)\n",
    "        flashed += flash_count\n",
    "    return flashed\n",
    "\n",
    "print(part_a(np.array([[int(k) for k in row] for row in '''5483143223\n",
    "2745854711\n",
    "5264556173\n",
    "6141336146\n",
    "6357385478\n",
    "4167524645\n",
    "2176841721\n",
    "6882881134\n",
    "4846848554\n",
    "5283751526'''.splitlines()]), 100))\n",
    "print(part_a(np.array(octopii), 100))\n",
    "# %timeit part_a(np.array(octopii), 100)"
   ]
  },
  {
   "cell_type": "code",
   "execution_count": 7,
   "id": "b18cc727-f91b-457f-9a31-bbdf788d15d0",
   "metadata": {},
   "outputs": [
    {
     "name": "stdout",
     "output_type": "stream",
     "text": [
      "11.5 ms ± 93.5 µs per loop (mean ± std. dev. of 7 runs, 100 loops each)\n"
     ]
    }
   ],
   "source": [
    "%%timeit grid = np.array(octopii)\n",
    "part_a(grid, 100)"
   ]
  },
  {
   "cell_type": "code",
   "execution_count": 8,
   "id": "6c14ed2d-3440-4128-ba04-f14ee9e5395f",
   "metadata": {},
   "outputs": [
    {
     "name": "stdout",
     "output_type": "stream",
     "text": [
      "195\n",
      "327\n"
     ]
    }
   ],
   "source": [
    "def part_b(grid):\n",
    "    nrow, ncol = grid.shape\n",
    "    step = 0\n",
    "    while True:\n",
    "        step += 1\n",
    "        grid, _ = run_step(grid, nrow, ncol)\n",
    "        if (grid == 0).all():\n",
    "            break\n",
    "    return step\n",
    "\n",
    "print(part_b(np.array([[int(k) for k in row] for row in '''5483143223\n",
    "2745854711\n",
    "5264556173\n",
    "6141336146\n",
    "6357385478\n",
    "4167524645\n",
    "2176841721\n",
    "6882881134\n",
    "4846848554\n",
    "5283751526'''.splitlines()])))\n",
    "print(part_b(np.array(octopii)))\n"
   ]
  },
  {
   "cell_type": "code",
   "execution_count": 9,
   "id": "c5637b85-c2ec-4679-8358-cba1dfcc4d2e",
   "metadata": {},
   "outputs": [
    {
     "name": "stdout",
     "output_type": "stream",
     "text": [
      "39.3 ms ± 574 µs per loop (mean ± std. dev. of 7 runs, 10 loops each)\n"
     ]
    }
   ],
   "source": [
    "%%timeit grid = np.array(octopii)\n",
    "part_b(grid) "
   ]
  },
  {
   "cell_type": "code",
   "execution_count": null,
   "id": "7cd05ad4-9d1b-4dcb-b678-e5f06701241f",
   "metadata": {},
   "outputs": [],
   "source": []
  }
 ],
 "metadata": {
  "kernelspec": {
   "display_name": "Python 3",
   "language": "python",
   "name": "python3"
  },
  "language_info": {
   "codemirror_mode": {
    "name": "ipython",
    "version": 3
   },
   "file_extension": ".py",
   "mimetype": "text/x-python",
   "name": "python",
   "nbconvert_exporter": "python",
   "pygments_lexer": "ipython3",
   "version": "3.9.7"
  }
 },
 "nbformat": 4,
 "nbformat_minor": 5
}
