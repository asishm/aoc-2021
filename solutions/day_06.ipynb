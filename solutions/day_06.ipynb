{
 "cells": [
  {
   "cell_type": "code",
   "execution_count": 1,
   "id": "4b3a101b-e1f2-4636-b4d3-cc7a6d61245d",
   "metadata": {},
   "outputs": [],
   "source": [
    "import sys\n",
    "import string\n",
    "import itertools\n",
    "from collections import Counter, defaultdict\n",
    "import re\n",
    "\n",
    "from pathlib import Path\n",
    "import os\n",
    "\n",
    "import pandas as pd\n",
    "import numpy as np\n",
    "import matplotlib.pyplot as plt"
   ]
  },
  {
   "cell_type": "code",
   "execution_count": 2,
   "id": "c4289897-d40d-4c0c-b650-a5c452a1545b",
   "metadata": {},
   "outputs": [],
   "source": [
    "%load_ext line_profiler"
   ]
  },
  {
   "cell_type": "code",
   "execution_count": 3,
   "id": "f15b03bd-fc6a-4cb1-ad15-7e67278322e6",
   "metadata": {},
   "outputs": [],
   "source": [
    "data = Path('../data/day_06.txt').read_text()"
   ]
  },
  {
   "cell_type": "code",
   "execution_count": 4,
   "id": "da8682b7-c473-4245-bd1c-bc3ea5c1c218",
   "metadata": {},
   "outputs": [],
   "source": [
    "timers = Counter([int(k) for k in data.split(',')])"
   ]
  },
  {
   "cell_type": "code",
   "execution_count": 5,
   "id": "be72fde5-1450-42a5-ac6f-d42b517de4d1",
   "metadata": {},
   "outputs": [
    {
     "data": {
      "text/plain": [
       "[0, 191, 30, 20, 35, 24, 0, 0, 0]"
      ]
     },
     "execution_count": 5,
     "metadata": {},
     "output_type": "execute_result"
    }
   ],
   "source": [
    "timer_lst = [timers[k] for k in range(9)]\n",
    "timer_lst"
   ]
  },
  {
   "cell_type": "code",
   "execution_count": 6,
   "id": "ce1e63fd-cf55-476a-80d5-39dc634cd302",
   "metadata": {
    "tags": []
   },
   "outputs": [
    {
     "name": "stdout",
     "output_type": "stream",
     "text": [
      "385391\n",
      "14.3 µs ± 68.8 ns per loop (mean ± std. dev. of 7 runs, 100000 loops each)\n"
     ]
    }
   ],
   "source": [
    "def part_a(timers, ndays):\n",
    "    for day in range(ndays):\n",
    "        zero_cnt = timers[0]\n",
    "        timers = timers[1:] + [zero_cnt]\n",
    "        timers[6] += zero_cnt\n",
    "\n",
    "    return sum(timers)\n",
    "\n",
    "print(part_a(timer_lst.copy(), 80))\n",
    "%timeit part_a(timer_lst.copy(), 80)"
   ]
  },
  {
   "cell_type": "code",
   "execution_count": 7,
   "id": "e9ef3cd7-17d3-4b3c-aa8c-aab7504ed1ed",
   "metadata": {},
   "outputs": [
    {
     "data": {
      "text/plain": [
       "Timer unit: 1e-06 s\n",
       "\n",
       "Total time: 9.5e-05 s\n",
       "File: <ipython-input-6-2e72d18ac5d0>\n",
       "Function: part_a at line 1\n",
       "\n",
       "Line #      Hits         Time  Per Hit   % Time  Line Contents\n",
       "==============================================================\n",
       "     1                                           def part_a(timers, ndays):\n",
       "     2        81         21.0      0.3     22.1      for day in range(ndays):\n",
       "     3        80         19.0      0.2     20.0          zero_cnt = timers[0]\n",
       "     4        80         30.0      0.4     31.6          timers = timers[1:] + [zero_cnt]\n",
       "     5        80         24.0      0.3     25.3          timers[6] += zero_cnt\n",
       "     6                                           \n",
       "     7         1          1.0      1.0      1.1      return sum(timers)"
      ]
     },
     "metadata": {},
     "output_type": "display_data"
    }
   ],
   "source": [
    "%lprun -f part_a part_a(timer_lst.copy(), 80)"
   ]
  },
  {
   "cell_type": "code",
   "execution_count": 8,
   "id": "272e33ad-8835-4a95-88bd-0c730093d17b",
   "metadata": {},
   "outputs": [
    {
     "name": "stdout",
     "output_type": "stream",
     "text": [
      "1728611055389\n",
      "45.7 µs ± 1.28 µs per loop (mean ± std. dev. of 7 runs, 10000 loops each)\n"
     ]
    }
   ],
   "source": [
    "def part_b(timers):\n",
    "    return part_a(timers, 256)\n",
    "\n",
    "print(part_b(timer_lst.copy()))\n",
    "%timeit part_b(timer_lst.copy())"
   ]
  },
  {
   "cell_type": "code",
   "execution_count": 9,
   "id": "8e599c9d-e78c-4d40-993f-eebe31920127",
   "metadata": {},
   "outputs": [
    {
     "data": {
      "text/plain": [
       "Timer unit: 1e-06 s\n",
       "\n",
       "Total time: 0.000283 s\n",
       "File: <ipython-input-6-2e72d18ac5d0>\n",
       "Function: part_a at line 1\n",
       "\n",
       "Line #      Hits         Time  Per Hit   % Time  Line Contents\n",
       "==============================================================\n",
       "     1                                           def part_a(timers, ndays):\n",
       "     2       257         56.0      0.2     19.8      for day in range(ndays):\n",
       "     3       256         57.0      0.2     20.1          zero_cnt = timers[0]\n",
       "     4       256         90.0      0.4     31.8          timers = timers[1:] + [zero_cnt]\n",
       "     5       256         79.0      0.3     27.9          timers[6] += zero_cnt\n",
       "     6                                           \n",
       "     7         1          1.0      1.0      0.4      return sum(timers)"
      ]
     },
     "metadata": {},
     "output_type": "display_data"
    }
   ],
   "source": [
    "%lprun -f part_a part_b(timer_lst.copy())"
   ]
  },
  {
   "cell_type": "code",
   "execution_count": null,
   "id": "740b9a18-dd46-4be0-9681-8133b343433c",
   "metadata": {},
   "outputs": [],
   "source": []
  }
 ],
 "metadata": {
  "kernelspec": {
   "display_name": "Python 3",
   "language": "python",
   "name": "python3"
  },
  "language_info": {
   "codemirror_mode": {
    "name": "ipython",
    "version": 3
   },
   "file_extension": ".py",
   "mimetype": "text/x-python",
   "name": "python",
   "nbconvert_exporter": "python",
   "pygments_lexer": "ipython3",
   "version": "3.9.7"
  }
 },
 "nbformat": 4,
 "nbformat_minor": 5
}
