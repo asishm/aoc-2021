{
 "cells": [
  {
   "cell_type": "code",
   "execution_count": 1,
   "id": "4b3a101b-e1f2-4636-b4d3-cc7a6d61245d",
   "metadata": {},
   "outputs": [],
   "source": [
    "import sys\n",
    "import string\n",
    "import itertools\n",
    "from collections import Counter, defaultdict\n",
    "import re\n",
    "\n",
    "from pathlib import Path\n",
    "import os\n",
    "\n",
    "import pandas as pd\n",
    "import numpy as np\n",
    "import matplotlib.pyplot as plt"
   ]
  },
  {
   "cell_type": "code",
   "execution_count": 2,
   "id": "c4289897-d40d-4c0c-b650-a5c452a1545b",
   "metadata": {},
   "outputs": [],
   "source": [
    "%load_ext line_profiler"
   ]
  },
  {
   "cell_type": "code",
   "execution_count": 3,
   "id": "f15b03bd-fc6a-4cb1-ad15-7e67278322e6",
   "metadata": {},
   "outputs": [],
   "source": [
    "data = Path('../data/day_06.txt').read_text()"
   ]
  },
  {
   "cell_type": "code",
   "execution_count": 4,
   "id": "da8682b7-c473-4245-bd1c-bc3ea5c1c218",
   "metadata": {},
   "outputs": [],
   "source": [
    "timers = Counter([int(k) for k in data.split(',')])"
   ]
  },
  {
   "cell_type": "code",
   "execution_count": 5,
   "id": "be72fde5-1450-42a5-ac6f-d42b517de4d1",
   "metadata": {},
   "outputs": [
    {
     "data": {
      "text/plain": [
       "[0, 191, 30, 20, 35, 24, 0, 0, 0]"
      ]
     },
     "execution_count": 5,
     "metadata": {},
     "output_type": "execute_result"
    }
   ],
   "source": [
    "timer_lst = [timers[k] for k in range(9)]\n",
    "timer_lst"
   ]
  },
  {
   "cell_type": "code",
   "execution_count": 6,
   "id": "ce1e63fd-cf55-476a-80d5-39dc634cd302",
   "metadata": {
    "tags": []
   },
   "outputs": [
    {
     "name": "stdout",
     "output_type": "stream",
     "text": [
      "385391\n",
      "42.3 µs ± 899 ns per loop (mean ± std. dev. of 7 runs, 10000 loops each)\n"
     ]
    }
   ],
   "source": [
    "def part_a(timers, ndays):\n",
    "    for day in range(ndays):\n",
    "        zero_cnt = timers[0]\n",
    "        new_timers = [0, 0, 0, 0, 0, 0, 0, 0, zero_cnt]\n",
    "        for i in range(8):\n",
    "            new_timers[i] = timers[i + 1]\n",
    "        new_timers[6] += zero_cnt\n",
    "        timers = new_timers\n",
    "        # print(timers)\n",
    "    return sum(new_timers)\n",
    "\n",
    "print(part_a(timer_lst.copy(), 80))\n",
    "%timeit part_a(timer_lst.copy(), 80)"
   ]
  },
  {
   "cell_type": "code",
   "execution_count": 7,
   "id": "e9ef3cd7-17d3-4b3c-aa8c-aab7504ed1ed",
   "metadata": {},
   "outputs": [
    {
     "data": {
      "text/plain": [
       "Timer unit: 1e-06 s\n",
       "\n",
       "Total time: 0.000554 s\n",
       "File: <ipython-input-6-3a390d390137>\n",
       "Function: part_a at line 1\n",
       "\n",
       "Line #      Hits         Time  Per Hit   % Time  Line Contents\n",
       "==============================================================\n",
       "     1                                           def part_a(timers, ndays):\n",
       "     2        81         20.0      0.2      3.6      for day in range(ndays):\n",
       "     3        80         20.0      0.2      3.6          zero_cnt = timers[0]\n",
       "     4        80         25.0      0.3      4.5          new_timers = [0, 0, 0, 0, 0, 0, 0, 0, zero_cnt]\n",
       "     5       720        182.0      0.3     32.9          for i in range(8):\n",
       "     6       640        260.0      0.4     46.9              new_timers[i] = timers[i + 1]\n",
       "     7        80         24.0      0.3      4.3          new_timers[6] += zero_cnt\n",
       "     8        80         22.0      0.3      4.0          timers = new_timers\n",
       "     9                                                   # print(timers)\n",
       "    10         1          1.0      1.0      0.2      return sum(new_timers)"
      ]
     },
     "metadata": {},
     "output_type": "display_data"
    }
   ],
   "source": [
    "%lprun -f part_a part_a(timer_lst.copy(), 80)"
   ]
  },
  {
   "cell_type": "code",
   "execution_count": 8,
   "id": "272e33ad-8835-4a95-88bd-0c730093d17b",
   "metadata": {},
   "outputs": [
    {
     "name": "stdout",
     "output_type": "stream",
     "text": [
      "1728611055389\n",
      "137 µs ± 2.16 µs per loop (mean ± std. dev. of 7 runs, 10000 loops each)\n"
     ]
    }
   ],
   "source": [
    "def part_b(timers):\n",
    "    return part_a(timers, 256)\n",
    "\n",
    "print(part_b(timer_lst.copy()))\n",
    "%timeit part_b(timer_lst.copy())"
   ]
  },
  {
   "cell_type": "code",
   "execution_count": 9,
   "id": "8e599c9d-e78c-4d40-993f-eebe31920127",
   "metadata": {},
   "outputs": [
    {
     "data": {
      "text/plain": [
       "Timer unit: 1e-06 s\n",
       "\n",
       "Total time: 0.003508 s\n",
       "File: <ipython-input-6-3a390d390137>\n",
       "Function: part_a at line 1\n",
       "\n",
       "Line #      Hits         Time  Per Hit   % Time  Line Contents\n",
       "==============================================================\n",
       "     1                                           def part_a(timers, ndays):\n",
       "     2       257         91.0      0.4      2.6      for day in range(ndays):\n",
       "     3       256         84.0      0.3      2.4          zero_cnt = timers[0]\n",
       "     4       256        134.0      0.5      3.8          new_timers = [0, 0, 0, 0, 0, 0, 0, 0, zero_cnt]\n",
       "     5      2304        987.0      0.4     28.1          for i in range(8):\n",
       "     6      2048       2006.0      1.0     57.2              new_timers[i] = timers[i + 1]\n",
       "     7       256        106.0      0.4      3.0          new_timers[6] += zero_cnt\n",
       "     8       256         98.0      0.4      2.8          timers = new_timers\n",
       "     9                                                   # print(timers)\n",
       "    10         1          2.0      2.0      0.1      return sum(new_timers)"
      ]
     },
     "metadata": {},
     "output_type": "display_data"
    }
   ],
   "source": [
    "%lprun -f part_a part_b(timer_lst.copy())"
   ]
  }
 ],
 "metadata": {
  "kernelspec": {
   "display_name": "Python 3",
   "language": "python",
   "name": "python3"
  },
  "language_info": {
   "codemirror_mode": {
    "name": "ipython",
    "version": 3
   },
   "file_extension": ".py",
   "mimetype": "text/x-python",
   "name": "python",
   "nbconvert_exporter": "python",
   "pygments_lexer": "ipython3",
   "version": "3.9.7"
  }
 },
 "nbformat": 4,
 "nbformat_minor": 5
}
