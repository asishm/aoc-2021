{
 "cells": [
  {
   "cell_type": "code",
   "execution_count": 1,
   "id": "921cb3f9-0da1-4389-b548-203af99725a4",
   "metadata": {},
   "outputs": [],
   "source": [
    "import sys\n",
    "import string\n",
    "import itertools\n",
    "from collections import Counter, defaultdict\n",
    "import re\n",
    "\n",
    "from pathlib import Path\n",
    "import os\n",
    "\n",
    "import pandas as pd\n",
    "import numpy as np"
   ]
  },
  {
   "cell_type": "code",
   "execution_count": 2,
   "id": "e65a7f03-4114-495f-9930-6fe6ba9b9ad9",
   "metadata": {},
   "outputs": [],
   "source": [
    "data = Path('../data/day_05.txt').read_text()"
   ]
  },
  {
   "cell_type": "code",
   "execution_count": 3,
   "id": "bd161c41-ed04-4cd8-95e3-ae11148a2261",
   "metadata": {},
   "outputs": [],
   "source": [
    "lines = [[[*map(int, m.split(','))] for m in k.split('->')] for k in data.splitlines()]"
   ]
  },
  {
   "cell_type": "code",
   "execution_count": 4,
   "id": "1c5d3ab3-d9bb-4ea6-b572-8144dea2455e",
   "metadata": {},
   "outputs": [
    {
     "name": "stdout",
     "output_type": "stream",
     "text": [
      "35.5 ms ± 818 µs per loop (mean ± std. dev. of 7 runs, 10 loops each)\n"
     ]
    }
   ],
   "source": [
    "%%timeit\n",
    "\n",
    "grid = Counter()\n",
    "\n",
    "for (x1, y1), (x2, y2) in lines:\n",
    "    if x1 == x2:\n",
    "        y1, y2 = sorted([y1, y2])\n",
    "        for y in range(y1, y2 + 1):\n",
    "            grid[(x1, y)] += 1\n",
    "\n",
    "    elif y1 == y2:\n",
    "        x1, x2 = sorted([x1, x2])\n",
    "        for x in range(x1, x2 + 1):\n",
    "            grid[(x, y1)] += 1\n",
    "\n",
    "sum([k > 1 for k in grid.values()])"
   ]
  },
  {
   "cell_type": "code",
   "execution_count": 5,
   "id": "064bbebc-9de1-4d4c-b6df-178ddcebc664",
   "metadata": {},
   "outputs": [
    {
     "name": "stdout",
     "output_type": "stream",
     "text": [
      "62.3 ms ± 3.21 ms per loop (mean ± std. dev. of 7 runs, 10 loops each)\n"
     ]
    }
   ],
   "source": [
    "%%timeit\n",
    "\n",
    "grid = Counter()\n",
    "\n",
    "for (x1, y1), (x2, y2) in lines:\n",
    "    if x1 == x2:\n",
    "        y1, y2 = sorted([y1, y2])\n",
    "        for y in range(y1, y2 + 1):\n",
    "            grid[(x1, y)] += 1\n",
    "\n",
    "    elif y1 == y2:\n",
    "        x1, x2 = sorted([x1, x2])\n",
    "        for x in range(x1, x2 + 1):\n",
    "            grid[(x, y1)] += 1\n",
    "\n",
    "    else:\n",
    "        diff = abs(x1 - x2) + 1\n",
    "        xrange = range(x1, x1 + diff) if x2 > x1 else range(x1, x1 - diff, -1)\n",
    "        yrange = range(y1, y1 + diff) if y2 > y1 else range(y1, y1 - diff, -1)\n",
    "\n",
    "        for x, y in zip(xrange, yrange):\n",
    "            grid[(x, y)] += 1\n",
    "\n",
    "sum([v > 1 for v in grid.values()])"
   ]
  }
 ],
 "metadata": {
  "kernelspec": {
   "display_name": "Python 3",
   "language": "python",
   "name": "python3"
  },
  "language_info": {
   "codemirror_mode": {
    "name": "ipython",
    "version": 3
   },
   "file_extension": ".py",
   "mimetype": "text/x-python",
   "name": "python",
   "nbconvert_exporter": "python",
   "pygments_lexer": "ipython3",
   "version": "3.9.7"
  }
 },
 "nbformat": 4,
 "nbformat_minor": 5
}
